{
 "cells": [
  {
   "cell_type": "markdown",
   "metadata": {},
   "source": [
    "# _Sleeping in Airports_ and _Skytrax_ User Review Analysis\n",
    "\n",
    "In this notebook, we'll be doing analysis on data scraped from both [sleepinginairports.net](http://www.sleepinginairports.net/) and [airlinequality.com (Skytrax)](http://www.airlinequality.com/review-pages/a-z-airport-reviews/) to determine what makes for the best passenger experience, at least to the users who leave reviews on these types of sites.\n",
    "\n",
    "### Getting started\n",
    "\n",
    "Thanks to Sandeep and some tireless work copying hundreds of urls by hand by our PaXOpts team due to scraper limitations, we have available to us the Sleeping in Airports user review data (`sia`) and Skytrax user review data (`stu`) as `csv` files, so we'll start by importing them as well as a few relevant libraries and then do some preliminary exploration. "
   ]
  },
  {
   "cell_type": "code",
   "execution_count": 1,
   "metadata": {
    "collapsed": true
   },
   "outputs": [],
   "source": [
    "import pandas as pd\n",
    "import numpy as np\n",
    "import matplotlib.pyplot as plt"
   ]
  },
  {
   "cell_type": "code",
   "execution_count": 37,
   "metadata": {
    "collapsed": false
   },
   "outputs": [
    {
     "data": {
      "text/html": [
       "<div>\n",
       "<table border=\"1\" class=\"dataframe\">\n",
       "  <thead>\n",
       "    <tr style=\"text-align: right;\">\n",
       "      <th></th>\n",
       "      <th>review_id</th>\n",
       "      <th>iata</th>\n",
       "      <th>mdy</th>\n",
       "      <th>stars</th>\n",
       "      <th>location</th>\n",
       "      <th>user</th>\n",
       "      <th>helpful</th>\n",
       "      <th>Where?</th>\n",
       "      <th>Was this an overnight stay?</th>\n",
       "      <th>Reason for Stay</th>\n",
       "      <th>...</th>\n",
       "      <th>AMENITIES</th>\n",
       "      <th>TEMPERATURES</th>\n",
       "      <th>SMOKING</th>\n",
       "      <th>BATHROOMS</th>\n",
       "      <th>OTHER GOOD TO KNOW INFORMATION</th>\n",
       "      <th>Date</th>\n",
       "      <th>pros</th>\n",
       "      <th>cons</th>\n",
       "      <th>title</th>\n",
       "      <th>review</th>\n",
       "    </tr>\n",
       "  </thead>\n",
       "  <tbody>\n",
       "    <tr>\n",
       "      <th>0</th>\n",
       "      <td>13</td>\n",
       "      <td>TIA</td>\n",
       "      <td>9/9/2007</td>\n",
       "      <td>5</td>\n",
       "      <td>TIRANA , Albania</td>\n",
       "      <td>web-administrator</td>\n",
       "      <td>---</td>\n",
       "      <td>Landside</td>\n",
       "      <td>---</td>\n",
       "      <td>---</td>\n",
       "      <td>...</td>\n",
       "      <td>---</td>\n",
       "      <td>---</td>\n",
       "      <td>---</td>\n",
       "      <td>---</td>\n",
       "      <td>---</td>\n",
       "      <td>2006 - September</td>\n",
       "      <td>---</td>\n",
       "      <td>---</td>\n",
       "      <td>Untitled1</td>\n",
       "      <td>(Contributed by Mairead)  \"Further to previous...</td>\n",
       "    </tr>\n",
       "    <tr>\n",
       "      <th>1</th>\n",
       "      <td>14</td>\n",
       "      <td>TIA</td>\n",
       "      <td>9/9/2007</td>\n",
       "      <td>3</td>\n",
       "      <td>TIRANA , Albania</td>\n",
       "      <td>web-administrator</td>\n",
       "      <td>---</td>\n",
       "      <td>Landside</td>\n",
       "      <td>---</td>\n",
       "      <td>---</td>\n",
       "      <td>...</td>\n",
       "      <td>---</td>\n",
       "      <td>---</td>\n",
       "      <td>---</td>\n",
       "      <td>---</td>\n",
       "      <td>---</td>\n",
       "      <td>2006 - August</td>\n",
       "      <td>---</td>\n",
       "      <td>---</td>\n",
       "      <td>Untitled2</td>\n",
       "      <td>(Contributed by craig) August 2006 - \"i have j...</td>\n",
       "    </tr>\n",
       "  </tbody>\n",
       "</table>\n",
       "<p>2 rows × 27 columns</p>\n",
       "</div>"
      ],
      "text/plain": [
       "   review_id iata       mdy  stars          location               user  \\\n",
       "0         13  TIA  9/9/2007      5  TIRANA , Albania  web-administrator   \n",
       "1         14  TIA  9/9/2007      3  TIRANA , Albania  web-administrator   \n",
       "\n",
       "  helpful    Where? Was this an overnight stay? Reason for Stay  \\\n",
       "0     ---  Landside                         ---             ---   \n",
       "1     ---  Landside                         ---             ---   \n",
       "\n",
       "                         ...                         AMENITIES TEMPERATURES  \\\n",
       "0                        ...                               ---          ---   \n",
       "1                        ...                               ---          ---   \n",
       "\n",
       "  SMOKING BATHROOMS OTHER GOOD TO KNOW INFORMATION              Date pros  \\\n",
       "0     ---       ---                            ---  2006 - September  ---   \n",
       "1     ---       ---                            ---     2006 - August  ---   \n",
       "\n",
       "  cons      title                                             review  \n",
       "0  ---  Untitled1  (Contributed by Mairead)  \"Further to previous...  \n",
       "1  ---  Untitled2  (Contributed by craig) August 2006 - \"i have j...  \n",
       "\n",
       "[2 rows x 27 columns]"
      ]
     },
     "execution_count": 37,
     "metadata": {},
     "output_type": "execute_result"
    }
   ],
   "source": [
    "sia = pd.read_csv('data/sia_reviews_all.csv') # user reviews scraped from sleepinginairports.net\n",
    "sia.head(2)"
   ]
  },
  {
   "cell_type": "markdown",
   "metadata": {},
   "source": [
    "As you can see, most of the data in in `String` format, which is true of the Skytrax data as well, so a preliminary glance at means and standard deviations doesn't tell us much, unfortunately."
   ]
  },
  {
   "cell_type": "code",
   "execution_count": 41,
   "metadata": {
    "collapsed": false
   },
   "outputs": [
    {
     "data": {
      "text/plain": [
       "count    12118.000000\n",
       "mean         3.065357\n",
       "std          1.428504\n",
       "min          1.000000\n",
       "25%          2.000000\n",
       "50%          3.000000\n",
       "75%          4.000000\n",
       "max          5.000000\n",
       "Name: stars, dtype: float64"
      ]
     },
     "execution_count": 41,
     "metadata": {},
     "output_type": "execute_result"
    }
   ],
   "source": [
    "sia['stars'].describe()"
   ]
  },
  {
   "cell_type": "code",
   "execution_count": 4,
   "metadata": {
    "collapsed": false
   },
   "outputs": [
    {
     "data": {
      "text/html": [
       "<div>\n",
       "<table border=\"1\" class=\"dataframe\">\n",
       "  <thead>\n",
       "    <tr style=\"text-align: right;\">\n",
       "      <th></th>\n",
       "      <th>review_id</th>\n",
       "      <th>iata</th>\n",
       "      <th>page_name</th>\n",
       "      <th>date</th>\n",
       "      <th>rating</th>\n",
       "      <th>author</th>\n",
       "      <th>country</th>\n",
       "      <th>review_count</th>\n",
       "      <th>verified</th>\n",
       "      <th>images</th>\n",
       "      <th>...</th>\n",
       "      <th>food_beverages</th>\n",
       "      <th>airport_shopping</th>\n",
       "      <th>wifi_connectivity</th>\n",
       "      <th>terminal_signs</th>\n",
       "      <th>airport_staff</th>\n",
       "      <th>type_of_traveller</th>\n",
       "      <th>date_visit</th>\n",
       "      <th>experience_at_airport</th>\n",
       "      <th>title</th>\n",
       "      <th>text</th>\n",
       "    </tr>\n",
       "  </thead>\n",
       "  <tbody>\n",
       "    <tr>\n",
       "      <th>0</th>\n",
       "      <td>393218</td>\n",
       "      <td>STN</td>\n",
       "      <td>London Stansted</td>\n",
       "      <td>2016-04-18</td>\n",
       "      <td>1/10</td>\n",
       "      <td>S Farabolini</td>\n",
       "      <td>Italy</td>\n",
       "      <td>0</td>\n",
       "      <td>no</td>\n",
       "      <td>0</td>\n",
       "      <td>...</td>\n",
       "      <td>1</td>\n",
       "      <td>1</td>\n",
       "      <td>1</td>\n",
       "      <td>1</td>\n",
       "      <td>1</td>\n",
       "      <td>Business</td>\n",
       "      <td>April 2016</td>\n",
       "      <td>Arrival and Departure</td>\n",
       "      <td>\"a dreadful experience\"</td>\n",
       "      <td>What a dreadful experience! Long queues with r...</td>\n",
       "    </tr>\n",
       "    <tr>\n",
       "      <th>1</th>\n",
       "      <td>408084</td>\n",
       "      <td>KEF</td>\n",
       "      <td>Keflavik</td>\n",
       "      <td>2016-06-25</td>\n",
       "      <td>2/10</td>\n",
       "      <td>Mary Manning</td>\n",
       "      <td>United States</td>\n",
       "      <td>0</td>\n",
       "      <td>no</td>\n",
       "      <td>0</td>\n",
       "      <td>...</td>\n",
       "      <td>NaN</td>\n",
       "      <td>---</td>\n",
       "      <td>2</td>\n",
       "      <td>1</td>\n",
       "      <td>1</td>\n",
       "      <td>Family Leisure</td>\n",
       "      <td>June 2016</td>\n",
       "      <td>Arrival and Departure</td>\n",
       "      <td>\"an airport in total chaos\"</td>\n",
       "      <td>This is our 2nd visit to Iceland. Previously w...</td>\n",
       "    </tr>\n",
       "  </tbody>\n",
       "</table>\n",
       "<p>2 rows × 24 columns</p>\n",
       "</div>"
      ],
      "text/plain": [
       "   review_id iata        page_name        date rating        author  \\\n",
       "0     393218  STN  London Stansted  2016-04-18   1/10  S Farabolini   \n",
       "1     408084  KEF         Keflavik  2016-06-25   2/10  Mary Manning   \n",
       "\n",
       "         country  review_count verified  images  \\\n",
       "0          Italy             0       no       0   \n",
       "1  United States             0       no       0   \n",
       "\n",
       "                         ...                         food_beverages  \\\n",
       "0                        ...                                      1   \n",
       "1                        ...                                    NaN   \n",
       "\n",
       "  airport_shopping wifi_connectivity terminal_signs airport_staff  \\\n",
       "0                1                 1              1             1   \n",
       "1              ---                 2              1             1   \n",
       "\n",
       "  type_of_traveller  date_visit  experience_at_airport  \\\n",
       "0          Business  April 2016  Arrival and Departure   \n",
       "1    Family Leisure   June 2016  Arrival and Departure   \n",
       "\n",
       "                         title  \\\n",
       "0      \"a dreadful experience\"   \n",
       "1  \"an airport in total chaos\"   \n",
       "\n",
       "                                                text  \n",
       "0  What a dreadful experience! Long queues with r...  \n",
       "1  This is our 2nd visit to Iceland. Previously w...  \n",
       "\n",
       "[2 rows x 24 columns]"
      ]
     },
     "execution_count": 4,
     "metadata": {},
     "output_type": "execute_result"
    }
   ],
   "source": [
    "stu = pd.read_csv('data/skytrax_reviews_all.csv') # user reviews scraped from airlinequality.com\n",
    "stu.head(2)"
   ]
  },
  {
   "cell_type": "markdown",
   "metadata": {},
   "source": [
    "Next, we'll graph the ratings (or `stars` in `sia`) to see the distribution of user numerical ratings across all airports. "
   ]
  },
  {
   "cell_type": "code",
   "execution_count": 49,
   "metadata": {
    "collapsed": false
   },
   "outputs": [
    {
     "data": {
      "image/png": "[encoded data removed]",
      "text/plain": [
       "<matplotlib.figure.Figure at 0x1b550e6d080>"
      ]
     },
     "metadata": {},
     "output_type": "display_data"
    }
   ],
   "source": [
    "stu['rating'].value_counts(sort=False).sort_index().plot.bar()\n",
    "plt.ylabel('Number of ratings'); plt.xlabel('Rating'); plt.title('Occurences of rating in Skytrax airport user reviews')\n",
    "plt.show()"
   ]
  },
  {
   "cell_type": "code",
   "execution_count": 51,
   "metadata": {
    "collapsed": false
   },
   "outputs": [
    {
     "data": {
      "image/png": "[encoded data removed]",
      "text/plain": [
       "<matplotlib.figure.Figure at 0x1b550e502e8>"
      ]
     },
     "metadata": {},
     "output_type": "display_data"
    }
   ],
   "source": [
    "sia['stars'].value_counts().sort_index().plot.bar()\n",
    "plt.ylabel('Number of stars'); plt.xlabel('stars'); plt.title('Occurences of stars (rating) in SiA user reviews')\n",
    "plt.show()"
   ]
  },
  {
   "cell_type": "code",
   "execution_count": null,
   "metadata": {
    "collapsed": true
   },
   "outputs": [],
   "source": []
  }
 ],
 "metadata": {
  "anaconda-cloud": {},
  "kernelspec": {
   "display_name": "Python [default]",
   "language": "python",
   "name": "python3"
  },
  "language_info": {
   "codemirror_mode": {
    "name": "ipython",
    "version": 3
   },
   "file_extension": ".py",
   "mimetype": "text/x-python",
   "name": "python",
   "nbconvert_exporter": "python",
   "pygments_lexer": "ipython3",
   "version": "3.5.2"
  }
 },
 "nbformat": 4,
 "nbformat_minor": 2
}
