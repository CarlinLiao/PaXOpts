{
 "cells": [
  {
   "cell_type": "markdown",
   "metadata": {},
   "source": [
    "# Python Scraping Demo\n",
    "\n",
    "Dependencies:\n",
    "* BeautifulSoup: a library for traversing the DOM in HTML pages (e.g. going through each `<table>` element in a web page.\n",
    "* Scrapy: a library for crawling the web (i.e. going from one page to another by links that connect them.)\n",
    "* (Optional) `urllib3` or `requests`: More powerful libraries for dealing with URLs; you can also use `urllib` or `urllib2`, which, depending on the machine, should be built in. You can install this libraries with `pip3 install urllib3` or `pip3 install requests`.\n",
    "\n",
    "To install these, you should have two things installed:\n",
    "* Python 3: This is the latest version of Python and is actively maintained, although you should be aware that many applications are still built in Python 2 due to legacy.\n",
    "    * https://www.python.org\n",
    "* pip: a python package installation manager that installs packages/libraries for you. Ensure that you install pip for Python 3 (i.e. pip3).\n",
    "    * https://pip.pypa.io/en/stable/\n",
    "* (Optional) Jupyter notebook: To create a notebook like this to work on:\n",
    "    * `pip3 install jupyter`"
   ]
  },
  {
   "cell_type": "code",
   "execution_count": 131,
   "metadata": {
    "collapsed": false
   },
   "outputs": [],
   "source": [
    "from bs4 import BeautifulSoup\n",
    "# import scrapy\n",
    "import urllib.request\n",
    "import csv"
   ]
  },
  {
   "cell_type": "markdown",
   "metadata": {},
   "source": [
    "### Skytrax Scraping\n",
    "Using Skytrax to combine the rankings and find subcategories.\n",
    "\n",
    "Skytrax lists 555 Airports each year.\n",
    "\n",
    "Documentation: https://www.crummy.com/software/BeautifulSoup/bs4/doc/\n",
    "\n",
    "Websites with listing of Top 100 Airports from 2012-2016:\n",
    "* http://www.worldairportawards.com/Awards/world_airport_rating.html\n",
    "* http://www.worldairportawards.com/Awards/world_airport_rating_2015.html\n",
    "* http://www.worldairportawards.com/Awards/world_airport_rating_2014.html\n",
    "* http://www.worldairportawards.com/Awards/world_airport_rating_2013.html\n",
    "* http://www.worldairportawards.com/Awards/world_airport_rating_2012.html\n",
    "\n",
    "How do we figure out where to scrape from?<br />\n",
    "1) Right click on a word you want to include and click on \"Inspect element\":<br />\n",
    "<!--![title](Instructions 1.png)-->\n",
    "<img src=\"Instructions 1.png\",height=\"400px\",width=\"400px\" />\n",
    "2) Find the HTML tags associated with our element:<br />\n",
    "<!--![title](Instructions 2.png)-->\n",
    "<img src=\"Instructions 2.png\",height=\"600px\",width=\"600px\" />\n",
    "\n",
    "We notice a lot of `<tr>` elements surrounding each row of airport entries that we want; so let's try to grab each `<tr>` element that we think is important:\n",
    "\n",
    "Observe the following code for this example:<br />\n",
    "`<tr>`<br />\n",
    "    `<td class=\"left\">1</td>`<br />\n",
    "    `<td class=\"middle\">Singapore Airport</td>`<br />\n",
    "    `<td class=\"right\">1</td>`<br />\n",
    "`</tr>`"
   ]
  },
  {
   "cell_type": "code",
   "execution_count": 101,
   "metadata": {
    "collapsed": true
   },
   "outputs": [],
   "source": [
    "# Show what happens without the [1:-1]"
   ]
  },
  {
   "cell_type": "code",
   "execution_count": 102,
   "metadata": {
    "collapsed": false
   },
   "outputs": [],
   "source": [
    "apts = set()\n",
    "ratings_16 = {}\n",
    "ratings_15 = {}\n",
    "ratings_14 = {}\n",
    "ratings_13 = {}\n",
    "ratings_12 = {}\n",
    "ratings_11 = {}\n",
    "\n",
    "def read_page(curr_dict, page, prev_dict):\n",
    "    soup = BeautifulSoup(urllib.request.urlopen(page).read(), \"lxml\")\n",
    "    for tag in soup.find_all(\"td\", class_=\"left\")[1:-1]:\n",
    "        curr_rating = tag.get_text()\n",
    "        apt_name = tag.find_next_sibling(\"td\", class_=\"middle\").get_text()\n",
    "        prev_rating = tag.find_next_sibling(\"td\", class_=\"right\").get_text()\n",
    "        apts.add(apt_name)\n",
    "        if apt_name in curr_dict:\n",
    "            if (curr_dict[apt_name] != curr_rating):\n",
    "                print(\"Error for \" + apt_name)\n",
    "                print(page)\n",
    "                print(curr_rating + \" vs. \" + curr_dict[apt_name])\n",
    "                curr_dict[apt_name] = curr_rating\n",
    "        else:\n",
    "            curr_dict[apt_name] = curr_rating\n",
    "        prev_dict[apt_name] = prev_rating\n",
    "    "
   ]
  },
  {
   "cell_type": "code",
   "execution_count": 103,
   "metadata": {
    "collapsed": false
   },
   "outputs": [
    {
     "name": "stdout",
     "output_type": "stream",
     "text": [
      "{'Tokyo Intl  Haneda': '4', 'Narita Intl Airport': '11', 'Cincinnati/Kentucky': '32', 'Amsterdam Schiphol': '13', 'Vancouver Airport': '14', 'Madrid-Barajas Airport': '31', 'Johannesburg Intl': '30', 'Sydney Airport': '23', 'San Francisco Airport': '37', 'Lisbon Airport': '57', 'Beijing Capital Airport': '16', 'Kansai Intl Airport': '9', 'Boston Logan Airport ': '97', 'Geneva Intl Airport': '96', 'Durban Airport ': '35', 'Toronto Pearson': '44', 'Copenhagen Airport': '18', 'Gold Coast Airport': '55', 'Paris CDG Airport': '33', 'Nice Airport': '84', 'Seattle-Tacoma ': '54', 'Frankfurt Airport': '12', 'Keflavik Intl Airport': '72', 'Barcelona Airport': '27', 'Abu Dhabi Airport': '38', 'Houston George Bush': '71', 'Shenzhen Airport': '77', 'Brussels Airport': '83', 'Incheon Intl Airport': '2', 'Taiwan Taoyuan Airport ': '20', 'Brisbane Airport': '17', 'Doha Hamad Airport': '10', 'Montréal Intl Airport': '88', 'Birmingham Airport': '87', 'London Heathrow': '8', 'Shanghai Hongqiao': '34', 'New York JFK Airport': '59', 'Hamburg Airport': '40', \"Xi'an Airport\": '48', 'Hong Kong Intl Airport': '5', 'JakartaIntl Airport ': '63', 'Hartsfield-Jackson': '43', 'Haikou Meilan Airport': '52', 'Dusseldorf Airport': '39', 'Zurich Airport': '7', 'Guayaquil Airport': '65', 'Perth Airport': '73', 'London City Airport': '41', 'Muscat Intl Airport': '94', 'Oslo Airport': '56', 'Mumbai  Intl Airport': '64', 'Kazan Intl Airport': '100', 'Cologne/Bonn Airport': '19', 'Dublin Airport': '80', 'Denver Airport': '28', 'Athens Intl Airport': '60', 'Quito Intl Airport': '62', 'Porto  Airport': '70', 'Delhi Intl Airport': '66', 'Lima Airport': '49', 'Cape Town Airport': '22', 'Kuala Lumpur Airport': '24', 'Moscow Domodedovo ': '53', 'Los Angeles Airport': '91', 'Gimpo Intl Airport': '42', 'Melbourne Airport': '25', 'Budapest Intl Airport': '76', 'Manchester Airport': '90', 'Hyderabad Airport': '68', 'Bogota El Dorado': '46', 'Malta Intl Airport': '92', 'Singapore Changi': '1', 'Dallas/Fort Worth': '58', 'Prague Airport': '93', 'Stansted Airport': '95', 'Moscow Sheremetyevo': '78', 'Gatwick Airport': '45', 'Hanoi Noi Bai Airport': '82', 'Adelaide Airport': '69', 'Bahrain Airport': '47', 'Chengdu Airport': '50', 'Centrair Airport': '6', 'Luxembourg Airport': '99', 'Munich Airport': '3', 'Bengaluru Airport ': '74', 'Stockholm Arlanda': '67', 'Minneapolis-St Paul': '75', 'Auckland Airport': '21', 'Dubai Airport': '26', 'Bangkok Suvarnabhumi': '36', 'Billund Airport': '79', 'Panama Tocumen ': '86', 'Fukuoka Airport': '98', 'Vienna Airport': '29', 'Christchurch Airport ': '51', 'Helsinki Airport': '15', 'Guangzhou Airport ': '85', 'Halifax Stanfield': '61', 'Detroit Airport': '89', 'Sanya Phoenix Airport': '81'}\n",
      "{'Tokyo Intl  Haneda': '5', 'Narita Intl Airport': '14', 'Cincinnati/Kentucky': '30', 'Amsterdam Schiphol': '9', 'Vancouver Airport': '11', 'Madrid-Barajas Airport': '27', 'Johannesburg Intl': '24', 'Sydney Airport': '21', 'San Francisco Airport': '36', 'Lisbon Airport': '52', 'Beijing Capital Airport': '10', 'Kansai Intl Airport': '12', 'Boston Logan Airport ': '88', 'Geneva Intl Airport': '95', 'Durban Airport ': '28', 'Toronto Pearson': '43', 'Copenhagen Airport': '16', 'Gold Coast Airport': '42', 'Paris CDG Airport': '48', 'Nice Airport': '79', 'Seattle-Tacoma ': '54', 'Frankfurt Airport': '13', 'Keflavik Intl Airport': '67', 'Barcelona Airport': '37', 'Abu Dhabi Airport': '29', 'Houston George Bush': '101', 'Shenzhen Airport': '72', 'Brussels Airport': '78', 'Incheon Intl Airport': '2', 'Taiwan Taoyuan Airport ': '17', 'Brisbane Airport': '20', 'Doha Hamad Airport': '22', 'Montréal Intl Airport': '87', 'Birmingham Airport': '82', 'London Heathrow': '8', 'Shanghai Hongqiao': '31', 'New York JFK Airport': '60', 'Hamburg Airport': '45', \"Xi'an Airport\": '74', 'Hong Kong Intl Airport': '4', 'JakartaIntl Airport ': '57', 'Hartsfield-Jackson': '44', 'Haikou Meilan Airport': '53', 'Dusseldorf Airport': '34', 'Zurich Airport': '6', 'Guayaquil Airport': '59', 'Perth Airport': '75', 'London City Airport': '32', 'Muscat Intl Airport': '77', 'Oslo Airport': '49', 'Mumbai  Intl Airport': '141', 'Kazan Intl Airport': '103', 'Cologne/Bonn Airport': '23', 'Dublin Airport': '81', 'Denver Airport': '33', 'Athens Intl Airport': '55', 'Quito Intl Airport': '105', 'Porto  Airport': '65', 'Delhi Intl Airport': '58', 'Lima Airport': '35', 'Cape Town Airport': '26', 'Kuala Lumpur Airport': '19', 'Moscow Domodedovo ': '51', 'Los Angeles Airport': '98', 'Gimpo Intl Airport': '41', 'Melbourne Airport': '25', 'Budapest Intl Airport': '69', 'Manchester Airport': '80', 'Hyderabad Airport': '70', 'Bogota El Dorado': '94', 'Malta Intl Airport': '97', 'Singapore Changi': '1', 'Dallas/Fort Worth': '62', 'Prague Airport': '85', 'Stansted Airport': '73', 'Moscow Sheremetyevo': '84', 'Gatwick Airport': '40', 'Hanoi Noi Bai Airport': '218', 'Adelaide Airport': '63', 'Bahrain Airport': '46', 'Chengdu Airport': '50', 'Centrair Airport': '7', 'Luxembourg Airport': '91', 'Munich Airport': '3', 'Bengaluru Airport ': '64', 'Stockholm Arlanda': '61', 'Minneapolis-St Paul': '86', 'Auckland Airport': '15', 'Dubai Airport': '39', 'Bangkok Suvarnabhumi': '47', 'Billund Airport': '68', 'Panama Tocumen ': '89', 'Fukuoka Airport': '93', 'Vienna Airport': '38', 'Christchurch Airport ': '76', 'Helsinki Airport': '18', 'Guangzhou Airport ': '66', 'Halifax Stanfield': '56', 'Detroit Airport': '96', 'Sanya Phoenix Airport': '83'}\n"
     ]
    }
   ],
   "source": [
    "read_page(ratings_16, \"http://www.worldairportawards.com/Awards/world_airport_rating.html\", ratings_15)\n",
    "print(ratings_16)\n",
    "print(ratings_15)"
   ]
  },
  {
   "cell_type": "code",
   "execution_count": 104,
   "metadata": {
    "collapsed": false
   },
   "outputs": [
    {
     "name": "stdout",
     "output_type": "stream",
     "text": [
      "Error for Copenhagen Airport\n",
      "http://www.worldairportawards.com/Awards/world_airport_rating_2013.html\n",
      "17 vs. 12\n",
      "Error for Dallas/Fort Worth\n",
      "http://www.worldairportawards.com/Awards/world_airport_rating_2013.html\n",
      "54 vs. 49\n"
     ]
    }
   ],
   "source": [
    "read_page(ratings_15, \"http://www.worldairportawards.com/Awards/world_airport_rating_2015.html\", ratings_14)\n",
    "read_page(ratings_14, \"http://www.worldairportawards.com/Awards/world_airport_rating_2014.html\", ratings_13)\n",
    "read_page(ratings_13, \"http://www.worldairportawards.com/Awards/world_airport_rating_2013.html\", ratings_12)\n",
    "read_page(ratings_12, \"http://www.worldairportawards.com/Awards/world_airport_rating_2012.html\", ratings_11)"
   ]
  },
  {
   "cell_type": "code",
   "execution_count": 105,
   "metadata": {
    "collapsed": false
   },
   "outputs": [],
   "source": [
    "ratings_tbls = [ratings_16, ratings_15, ratings_14, ratings_13, ratings_12, ratings_11]\n",
    "\n",
    "def add_rating(apt_key, r_list, r_tbl):\n",
    "    if apt_key in r_tbl:\n",
    "        r_list.append(r_tbl[apt_key])\n",
    "    else:\n",
    "        r_list.append(\"--\")\n",
    "\n",
    "cumul_ratings = {}\n",
    "for apt in apts:\n",
    "    ratings = []\n",
    "    for ratings_tbl in ratings_tbls:\n",
    "        add_rating(apt, ratings, ratings_tbl)\n",
    "    cumul_ratings[apt] = ratings"
   ]
  },
  {
   "cell_type": "code",
   "execution_count": 106,
   "metadata": {
    "collapsed": false
   },
   "outputs": [
    {
     "name": "stdout",
     "output_type": "stream",
     "text": [
      "{'Tokyo Intl  Haneda': ['4', '5', '--', '--', '--', '--'], 'Porto Airport': ['--', '65', '63', '53', '55', '55'], 'Minneapolis-Saint Paul': ['--', '--', '67', '71', '--', '--'], 'London Stansted ': ['--', '--', '--', '41', '42', '--'], 'London City': ['--', '--', '--', '34', '37', '45'], 'Shanghai PuDong': ['--', '--', '--', '--', '32', '39'], 'Heathrow Airport': ['--', '--', '10', '10', '--', '--'], 'London Stansted': ['--', '73', '49', '41', '42', '47'], 'Philadelphia Airport': ['--', '--', '--', '--', '97', '100'], 'Madrid-Barajas Airport': ['31', '27', '41', '47', '--', '--'], 'Charlotte Douglas': ['--', '--', '--', '--', '88', '87'], 'Jakarta Intl Airport': ['--', '57', '60', '--', '--', '--'], 'Christchurch Airport': ['--', '76', '74', '64', '70', '65'], 'San Francisco Airport': ['37', '36', '39', '40', '--', '--'], 'Madrid Barajas': ['--', '--', '--', '--', '38', '22'], 'Prague Airport': ['93', '85', '70', '61', '54', '44'], 'Minneapolis St.Paul': ['--', '--', '--', '--', '65', '64'], 'Cologne / Bonn ': ['--', '--', '--', '37', '53', '--'], 'Adelaide Airport': ['69', '63', '66', '77', '75', '74'], 'Boston Logan Airport ': ['97', '88', '86', '88', '--', '--'], 'Bangkok Suvarnabhumi ': ['--', '--', '--', '38', '25', '--'], 'Denver Intl Airport': ['--', '33', '29', '36', '44', '--'], 'Atlanta Intl Airport': ['--', '--', '45', '48', '59', '--'], 'Cincinnati/Kentucky': ['32', '30', '--', '--', '--', '--'], 'Johannesburg': ['--', '--', '--', '28', '31', '--'], 'Toronto Pearson': ['44', '43', '43', '46', '47', '49'], 'Johannesburg Airport ': ['--', '--', '26', '28', '--', '--'], 'Raleigh Durham': ['--', '--', '--', '--', '82', '84'], 'Gold Coast Airport': ['55', '42', '50', '52', '46', '34'], 'Paris CDG Airport': ['33', '48', '95', '82', '78', '89'], 'Budapest Intl ': ['--', '69', '71', '--', '--', '--'], 'Nice Airport': ['84', '79', '77', '76', '--', '--'], 'Seattle-Tacoma ': ['54', '54', '--', '--', '--', '--'], 'Frankfurt Airport': ['12', '13', '13', '11', '15', '20'], 'Hong Kong Intl': ['--', '4', '4', '--', '--', '--'], 'Malta Airport': ['--', '97', '80', '72', '60', '73'], 'Barcelona Airport': ['27', '37', '38', '39', '21', '15'], 'Shenzhen Airport': ['77', '72', '83', '133', '--', '--'], 'Vancouver Intl Airport': ['--', '11', '9', '8', '9', '--'], 'Bengaluru Airport': ['--', '64', '79', '73', '67', '--'], 'Brisbane Airport': ['17', '20', '23', '21', '34', '38'], 'Vancouver Airport': ['14', '11', '9', '8', '9', '12'], 'Panama Tocumen': ['--', '--', '--', '74', '72', '69'], 'Birmingham Airport': ['87', '82', '81', '91', '95', '98'], 'London Heathrow': ['8', '8', '10', '10', '11', '16'], 'Tokyo Naritar': ['--', '--', '--', '16', '17', '--'], 'Shanghai Hongqiao': ['34', '31', '15', '19', '16', '\\r\\n21'], 'Dubai Intl Airport': ['--', '39', '25', '33', '26', '23'], 'Newark Intl Airport': ['--', '--', '--', '93', '96', '101'], 'Istanbul Atatürk Airport': ['--', '--', '40', '42', '--', '--'], \"Xi'an Airport\": ['48', '74', '--', '--', '--', '--'], 'Hong Kong Intl Airport': ['5', '4', '--', '4', '3', '1'], 'Atlanta Intl Airport\\t': ['--', '--', '--', '--', '59', '57'], \"Nice Côte d'Azur\": ['--', '79', '77', '76', '73', '68'], \"Xi'an Intl Airport\": ['--', '74', '89', '176', '--', '--'], 'Moscow Domodedovo': ['--', '51', '55', '49', '40', '36'], 'Dusseldorf Airport': ['39', '34', '36', '27', '36', '31'], 'Guayaquil Airport': ['65', '59', '57', '45', '56', '58'], 'Bahrain Airport': ['47', '46', '--', '55', '58', '52'], 'London City Airport': ['41', '32', '31', '34', '--', '--'], 'Mumbai  Intl Airport': ['64', '141', '--', '--', '--', '--'], 'Bangkok Airport': ['--', '47', '48', '--', '--', '--'], 'Montréal Airport': ['--', '--', '--', '83', '79', '--'], 'Helsinki-Vantaa ': ['--', '18', '19', '15', '22', '--'], 'San Francisco ': ['--', '--', '--', '40', '39', '--'], 'Tokyo Haneda': ['--', '--', '--', '9', '14', '17'], 'Berlin Schönefeld': ['--', '--', '--', '99', '106', '--'], 'Athens Intl Airport': ['60', '55', '56', '51', '--', '--'], 'Lisbon Portela Airport': ['--', '--', '--', '67', '61', '--'], 'Bogota El Dorado ': ['--', '94', '260', '--', '--', '--'], 'Delhi Intl Airport': ['66', '58', '59', '69', '62', '--'], 'Budapest Airport': ['--', '--', '71', '101', '85', '78'], 'Lima Airport': ['49', '35', '37', '25', '30', '--'], \"Chicago O'Hare\": ['--', '92', '96', '84', '86', '80'], 'Cape Town Airport': ['22', '26', '30', '22', '27', '28'], 'Kuala Lumpur Airport': ['24', '19', '--', '--', '--', '--'], 'Moscow Domodedovo ': ['53', '51', '--', '--', '--', '--'], 'Centrair Airport': ['6', '7', '--', '--', '--', '--'], 'Budapest Intl Airport': ['76', '69', '--', '--', '--', '--'], 'Manchester Airport': ['90', '80', '78', '70', '66', '67'], 'Salt Lake City': ['--', '--', '--', '--', '99', '102'], 'Tokyo Intl Haneda': ['--', '5', '6', '--', '--', '--'], 'Bogota El Dorado': ['46', '94', '--', '--', '--', '--'], 'Kuala Lumpur': ['--', '--', '--', '14', '8', '9'], 'Singapore Changi': ['1', '1', '1', '1', '2', '--'], 'Abu Dhabi Intl Airport': ['--', '29', '22', '20', '18', '--'], 'Shanghai Hongqiao ': ['--', '31', '15', '--', '--', '--'], 'Dallas/Fort Worth': ['58', '62', '54', '54', '49', '37'], 'Beijing Capital Airport': ['16', '10', '--', '--', '--', '--'], 'Warsaw Airport': ['--', '--', '98', '102', '--', '--'], 'Moscow Sheremetyevo': ['78', '84', '88', '89', '98', '105'], 'Gatwick Airport': ['45', '40', '--', '--', '--', '--'], 'Montreal-Trudeau': ['--', '--', '--', '--', '79', '71'], 'Amsterdam Schiphol ': ['--', '--', '--', '3', '4', '6'], 'Seattle-Tacoma': ['--', '54', '53', '62', '71', '75'], 'Durban Intl Airport': ['--', '28', '32', '--', '--', '--'], 'Luxembourg Airport': ['99', '91', '91', '85', '87', '79'], 'Singapore Changi ': ['--', '--', '--', '--', '2', '2'], 'Taiwan Taoyuan ': ['--', '17', '18', '--', '--', '--'], 'Tokyo Intl Airport ': ['--', '--', '6', '9', '--', '--'], 'Haikou Airport': ['--', '53', '34', '--', '--', '--'], 'London Gatwick': ['--', '40', '35', '35', '45', '66'], 'Istanbul Atatürk': ['--', '71', '40', '32', '57', '54'], 'Taiwan Taoyuan': ['--', '--', '--', '24', '29', '31'], 'Montréal Trudeau': ['--', '87', '85', '--', '--', '--'], 'Sanya Intl Airport': ['--', '83', '82', '98', '91', '--'], 'Lisbon Airport': ['57', '52', '58', '67', '61', '60'], 'Pittsburgh Airport': ['--', '--', '--', '97', '90', '83'], 'Guayaquil Intl Airport': ['--', '--', '57', '45', '--', '--'], 'Panama Airport': ['--', '89', '84', '--', '--', '--'], 'Guangzhou\\xa0 Airport': ['--', '--', '--', '42', '52', '--'], 'New York JFK': ['--', '--', '--', '63', '74', '--'], 'Oslo Airport': ['56', '49', '51', '56', '48', '42'], 'Detroit Airport': ['89', '96', '--', '79', '76', '--'], 'Christchurch Airport ': ['51', '76', '--', '--', '--', '--'], 'Hamad Intl Airport': ['--', '22', '75', '--', '--', '--'], 'Helsinki Airport': ['15', '18', '19', '15', '22', '18'], 'Muscat Intl Airport': ['94', '77', '69', '75', '89', '97'], 'Hong Kong Airport': ['--', '--', '4', '4', '--', '--'], 'Moscow Sheremetyevo ': ['--', '--', '--', '89', '98', '--'], 'Sanya Phoenix Airport': ['81', '83', '--', '--', '--', '--'], 'Beijing Intl Airport': ['--', '--', '7', '5', '5', '--'], 'Narita Intl Airport': ['11', '14', '16', '17', '--', '--'], 'Haikou Meilan Airport': ['52', '53', '--', '--', '--', '--'], 'Amsterdam Schiphol': ['13', '9', '5', '3', '--', '--'], 'Raleigh-Durham': ['--', '99', '93', '86', '82', '--'], 'Cincinnati': ['--', '30', '27', '30', '24', '--'], 'Madrid-Barajas ': ['--', '27', '41', '--', '--', '--'], 'Johannesburg Intl': ['30', '24', '--', '--', '--', '--'], 'San Francisco': ['--', '--', '--', '--', '39', '50'], 'Sydney Airport': ['23', '21', '21', '31', '20', '40'], 'Atlanta': ['--', '44', '45', '--', '--', '--'], 'Detroit Wayne County': ['--', '96', '87', '--', '--', '--'], 'Kansai Intl Airport': ['9', '12', '14', '18', '19', '--'], 'Cologne / Bonn': ['--', '23', '28', '--', '--', '--'], 'Boston Logan': ['--', '88', '86', '88', '94', '99'], 'Guangzhou Airport': ['--', '66', '42', '52', '52', '41'], 'Geneva Intl Airport': ['96', '95', '--', '--', '--', '--'], 'Durban Airport ': ['35', '28', '32', '26', '--', '--'], 'Copenhagen Airport': ['18', '16', '17', '17', '12', '10'], 'Delhi Airport': ['--', '--', '--', '--', '62', '95'], 'Detroit Metropolitan': ['--', '--', '87', '79', '--', '--'], 'Kuala Lumpur Intl ': ['--', '19', '20', '--', '--', '--'], 'Beijing Capital': ['--', '--', '--', '--', '5', '5'], 'Bangalore Airport': ['--', '--', '--', '--', '67', '59'], 'Abu Dhabi Airport': ['38', '29', '22', '22', '18', '26'], 'Cape Town Intl Airport': ['--', '--', '30', '22', '--', '--'], 'Singapore Changi Airport': ['--', '--', '1', '1', '--', '--'], 'Cincinnati Intl Airport': ['--', '--', '27', '30', '--', '--'], 'Incheon Intl Airport': ['2', '2', '2', '2', '--', '--'], 'Detroit Metro Airport': ['--', '--', '--', '--', '76', '72'], 'Taiwan Taoyuan Airport ': ['20', '17', '--', '--', '--', '--'], 'Doha Hamad Airport': ['10', '22', '--', '--', '--', '--'], 'Montréal Intl Airport': ['88', '87', '--', '--', '--', '--'], 'Kansai Airport': ['--', '--', '--', '--', '19', '14'], 'New York JFK Airport': ['59', '60', '61', '63', '74', '70'], 'Doha Intl Airport': ['--', '--', '75', '68', '63', '56'], 'Sanya Airport': ['--', '--', '--', '--', '91', '76'], 'Hamburg Airport': ['40', '45', '44', '43', '28', '29'], 'JakartaIntl Airport ': ['63', '57', '--', '--', '--', '--'], 'Keflavik Intl Airport': ['72', '67', '--', '--', '--', '--'], 'Madrid-Barajas': ['--', '--', '--', '47', '38', '--'], 'Hartsfield-Jackson': ['43', '44', '--', '--', '--', '--'], 'Taoyuan Intl Airport ': ['--', '--', '18', '24', '--', '--'], 'Haikou Intl Airport': ['--', '--', '34', '44', '64', '53'], 'Zurich Airport': ['7', '6', '8', '7', '7', '7'], 'Perth Airport': ['73', '75', '76', '78', '80', '86'], 'Berlin Tegel Airport': ['--', '--', '--', '90', '81', '77'], 'Kazan Intl Airport': ['100', '103', '--', '--', '--', '--'], 'Centrair': ['--', '--', '12', '13', '10', '11'], 'Cologne/Bonn Airport': ['19', '23', '28', '37', '--', '--'], 'Halifax Intl Airport': ['--', '--', '--', '58', '68', '--'], 'Shanghai Pudong': ['--', '--', '64', '59', '32', '--'], 'Dublin Airport': ['80', '81', '92', '95', '104', '--'], 'Narita': ['--', '--', '--', '--', '17', '19'], 'Durban Airport': ['--', '--', '--', '26', '35', '33'], 'Denver Airport': ['28', '33', '--', '--', '44', '35'], 'Houston George Bush': ['71', '101', '90', '80', '83', '81'], 'Quito Intl Airport': ['62', '105', '--', '--', '--', '--'], 'Porto  Airport': ['70', '65', '--', '--', '--', '--'], 'San Francisco Intl ': ['--', '36', '39', '--', '--', '--'], 'Kuala Lumpur Intl': ['--', '--', '20', '14', '--', '--'], 'Beijing Capital ': ['--', '10', '7', '--', '--', '--'], 'Auckland Intl Airport': ['--', '15', '11', '12', '--', '--'], 'Central Japan Intl ': ['--', '7', '12', '--', '--', '--'], 'New York JFK ': ['--', '60', '61', '--', '--', '--'], 'Keflavik Airport': ['--', '67', '73', '81', '84', '85'], 'Hyderabad Airport': ['68', '70', '68', '65', '77', '92'], 'Los Angeles Airport': ['91', '98', '102', '--', '--', '--'], 'Gimpo Intl Airport': ['42', '41', '33', '23', '23', '--'], 'Melbourne Airport': ['25', '25', '24', '29', '43', '48'], 'Charlotte/Douglas': ['--', '--', '97', '87', '88', '--'], 'Hyderabad  Airport': ['--', '--', '68', '65', '--', '--'], 'Brussels Airport': ['83', '78', '72', '66', '69', '63'], 'Montréal-Pierre Elliott': ['--', '--', '85', '83', '--', '--'], 'Malta Intl Airport': ['92', '97', '80', '72', '--', '--'], 'Jakarta  Airport ': ['--', '--', '60', '113', '--', '--'], 'Lima Intl Airport': ['--', '--', '--', '--', '30', '32'], 'Stansted Airport': ['95', '73', '--', '--', '--', '--'], 'Panama Tocumen ': ['86', '89', '--', '--', '--', '--'], 'Salt Lake City Airport': ['--', '--', '--', '94', '99', '--'], 'Incheon Intl ': ['--', '--', '--', '2', '1', '--'], 'Hanoi Noi Bai Airport': ['82', '218', '--', '--', '--', '--'], 'Palma de Mallorca': ['--', '--', '--', '--', '93', '91'], 'Chengdu Airport': ['50', '50', '94', '182', '--', '--'], 'Cologne/Bonn': ['--', '--', '--', '--', '53', '61'], 'Seoul Gimpo Airport': ['--', '--', '--', '--', '23', '27'], 'Munich Airport': ['3', '3', '3', '6', '6', '4'], 'Athens Airport': ['--', '55', '56', '51', '33', '43'], 'Bengaluru Airport ': ['74', '64', '--', '--', '--', '--'], 'Stockholm Arlanda': ['67', '61', '65', '60', '51', '46'], 'Minneapolis-St Paul': ['75', '86', '67', '71', '65', '--'], 'Auckland Airport': ['21', '15', '--', '12', '13', '\\r\\n8'], 'Dubai Airport': ['26', '39', '--', '--', '--', '--'], 'Bangkok Suvarnabhumi': ['36', '47', '48', '38', '25', '13'], 'Incheon International': ['--', '--', '--', '--', '1', '3'], 'Billund Airport': ['79', '68', '62', '57', '50', '62'], 'Christchurch Intl Airport ': ['--', '--', '74', '64', '--', '--'], 'Panama Airport ': ['--', '--', '84', '74', '--', '--'], 'Fukuoka Airport': ['98', '93', '99', '92', '92', '90'], 'Geneva Airport': ['--', '95', '109', '96', '105', '--'], 'Vienna Airport': ['29', '38', '46', '50', '41', '51'], 'London Gatwick Airport': ['--', '--', '35', '45', '--', '--'], 'Vienna Intl Airport': ['--', '38', '46', '--', '--', '--'], 'Johannesburg Airport': ['--', '24', '26', '--', '31', '25'], 'Guangzhou Airport ': ['85', '66', '--', '--', '--', '--'], 'Halifax Stanfield': ['61', '56', '52', '58', '68', '88'], 'Cincinnati Airport': ['--', '--', '--', '--', '24', '24'], 'Bahrain Intl Airport': ['--', '46', '47', '55', '--', '--']}\n"
     ]
    }
   ],
   "source": [
    "print(cumul_ratings)"
   ]
  },
  {
   "cell_type": "code",
   "execution_count": 107,
   "metadata": {
    "collapsed": false
   },
   "outputs": [
    {
     "name": "stdout",
     "output_type": "stream",
     "text": [
      "100\n",
      "151\n",
      "142\n",
      "147\n",
      "136\n",
      "99\n"
     ]
    }
   ],
   "source": [
    "for ratings_tbl in ratings_tbls:\n",
    "    print(len(ratings_tbl))"
   ]
  },
  {
   "cell_type": "code",
   "execution_count": 108,
   "metadata": {
    "collapsed": false
   },
   "outputs": [
    {
     "name": "stdout",
     "output_type": "stream",
     "text": [
      "229\n"
     ]
    }
   ],
   "source": [
    "print(len(cumul_ratings))"
   ]
  },
  {
   "cell_type": "code",
   "execution_count": 109,
   "metadata": {
    "collapsed": false
   },
   "outputs": [
    {
     "name": "stdout",
     "output_type": "stream",
     "text": [
      "103\n",
      "151\n",
      "['5', '14', '65', '30', '92', '9', '11', '99', '30', '27', '27', '24', '57', '4', '21', '36', '52', '10', '96', '12', '88', '33', '83', '88', '66', '95', '28', '43', '23', '16', '42', '48', '19', '69', '79', '54', '13', '67', '94', '37', '29', '101', '72', '11', '78', '2', '17', '20', '22', '87', '82', '8', '31', '39', '60', '45', '74', '4', '57', '79', '44', '73', '74', '53', '34', '6', '59', '75', '38', '32', '77', '49', '141', '47', '103', '97', '23', '18', '81', '24', '33', '55', '105', '65', '36', '58', '10', '15', '35', '60', '28', '67', '26', '19', '51', '98', '41', '25', '7', '69', '80', '51', '70', '94', '97', '44', '1', '29', '31', '62', '85', '73', '84', '40', '64', '218', '54', '63', '46', '50', '7', '91', '17', '53', '40', '71', '3', '55', '87', '64', '61', '86', '15', '39', '47', '76', '68', '89', '89', '93', '95', '38', '76', '22', '18', '66', '56', '5', '96', '83', '46']\n"
     ]
    }
   ],
   "source": [
    "rat_15s = set()\n",
    "rat_15s_nonset = []\n",
    "for apt in ratings_15:\n",
    "    rat_15s.add(ratings_15[apt])\n",
    "    rat_15s_nonset.append(ratings_15[apt])\n",
    "print(len(rat_15s))\n",
    "print(len(rat_15s_nonset))\n",
    "print(rat_15s_nonset)"
   ]
  },
  {
   "cell_type": "code",
   "execution_count": 110,
   "metadata": {
    "collapsed": false
   },
   "outputs": [],
   "source": [
    "apts_set = set()\n",
    "\n",
    "ratings_16_ator = {}\n",
    "ratings_15_ator = {}\n",
    "ratings_14_ator = {}\n",
    "ratings_13_ator = {}\n",
    "ratings_12_ator = {}\n",
    "ratings_11_ator = {}\n",
    "\n",
    "ratings_16_rtoa = {}\n",
    "ratings_15_rtoa = {}\n",
    "ratings_14_rtoa = {}\n",
    "ratings_13_rtoa = {}\n",
    "ratings_12_rtoa = {}\n",
    "ratings_11_rtoa = {}\n",
    "\n",
    "\n",
    "def read_page_16(curr_dict_ator, curr_dict_rtoa, page, prev_dict_ator, prev_dict_rtoa):\n",
    "    soup = BeautifulSoup(urllib.request.urlopen(page).read(), \"lxml\")\n",
    "    for tag in soup.find_all(\"td\", class_=\"left\")[1:-1]:\n",
    "        curr_rating = int(tag.get_text())\n",
    "        apt_name = tag.find_next_sibling(\"td\", class_=\"middle\").get_text().strip()\n",
    "        prev_rating = int(tag.find_next_sibling(\"td\", class_=\"right\").get_text())\n",
    "        curr_dict_rtoa[curr_rating] = apt_name\n",
    "        curr_dict_ator[apt_name] = curr_rating\n",
    "        prev_dict_rtoa[prev_rating] = apt_name\n",
    "        prev_dict_ator[apt_name] = prev_rating\n",
    "\n",
    "def read_page_2(curr_dict_ator, curr_dict_rtoa, page, prev_dict_ator, prev_dict_rtoa):\n",
    "    soup = BeautifulSoup(urllib.request.urlopen(page).read(), \"lxml\")\n",
    "    for tag in soup.find_all(\"td\", class_=\"left\")[1:]:\n",
    "        curr_rating = int(tag.get_text())\n",
    "        apt_name = tag.find_next_sibling(\"td\", class_=\"middle\").get_text().strip()\n",
    "        prev_rating = int(tag.find_next_sibling(\"td\", class_=\"right\").get_text())\n",
    "        # apts.add(apt_name)\n",
    "        if curr_rating in curr_dict_rtoa:\n",
    "            if (curr_dict_rtoa[curr_rating] != apt_name):\n",
    "                print(str(curr_rating) + \": \" + apt_name + \" vs. \" + curr_dict_rtoa[curr_rating])\n",
    "                curr_dict_rtoa[curr_rating] = apt_name\n",
    "                if apt_name in curr_dict_ator:\n",
    "                    print(\"ERROR: \" + apt_name + \" \" + str(curr_dict_ator[apt_name]) + \" vs. \" + str(curr_rating))\n",
    "                curr_dict_ator[apt_name] = curr_rating\n",
    "        else:\n",
    "            curr_dict_rtoa[curr_rating] = apt_name\n",
    "            curr_dict_ator[apt_name] = curr_rating\n",
    "        prev_dict_rtoa[prev_rating] = apt_name\n",
    "        prev_dict_ator[apt_name] = prev_rating"
   ]
  },
  {
   "cell_type": "code",
   "execution_count": 111,
   "metadata": {
    "collapsed": false
   },
   "outputs": [
    {
     "name": "stdout",
     "output_type": "stream",
     "text": [
      "2016:\n",
      "2015:\n",
      "4: Hong Kong Intl vs. Hong Kong Intl Airport\n",
      "5: Tokyo Intl Haneda vs. Tokyo Intl  Haneda\n",
      "7: Central Japan Intl vs. Centrair Airport\n",
      "10: Beijing Capital vs. Beijing Capital Airport\n",
      "11: Vancouver Intl Airport vs. Vancouver Airport\n",
      "15: Auckland Intl Airport vs. Auckland Airport\n",
      "17: Taiwan Taoyuan vs. Taiwan Taoyuan Airport\n",
      "18: Helsinki-Vantaa vs. Helsinki Airport\n",
      "19: Kuala Lumpur Intl vs. Kuala Lumpur Airport\n",
      "22: Hamad Intl Airport vs. Doha Hamad Airport\n",
      "23: Cologne / Bonn vs. Cologne/Bonn Airport\n",
      "24: Johannesburg Airport vs. Johannesburg Intl\n",
      "27: Madrid-Barajas vs. Madrid-Barajas Airport\n",
      "28: Durban Intl Airport vs. Durban Airport\n",
      "29: Abu Dhabi Intl Airport vs. Abu Dhabi Airport\n",
      "30: Cincinnati vs. Cincinnati/Kentucky\n",
      "33: Denver Intl Airport vs. Denver Airport\n",
      "36: San Francisco Intl vs. San Francisco Airport\n",
      "38: Vienna Intl Airport vs. Vienna Airport\n",
      "39: Dubai Intl Airport vs. Dubai Airport\n",
      "40: London Gatwick vs. Gatwick Airport\n",
      "44: Atlanta vs. Hartsfield-Jackson\n",
      "46: Bahrain Intl Airport vs. Bahrain Airport\n",
      "47: Bangkok Airport vs. Bangkok Suvarnabhumi\n",
      "53: Haikou Airport vs. Haikou Meilan Airport\n",
      "55: Athens Airport vs. Athens Intl Airport\n",
      "57: Jakarta Intl Airport vs. JakartaIntl Airport\n",
      "60: New York JFK vs. New York JFK Airport\n",
      "65: Porto Airport vs. Porto  Airport\n",
      "67: Keflavik Airport vs. Keflavik Intl Airport\n",
      "69: Budapest Intl vs. Budapest Intl Airport\n",
      "73: London Stansted vs. Stansted Airport\n",
      "74: Xi'an Intl Airport vs. Xi'an Airport\n",
      "79: Nice Côte d'Azur vs. Nice Airport\n",
      "83: Sanya Intl Airport vs. Sanya Phoenix Airport\n",
      "87: Montréal Trudeau vs. Montréal Intl Airport\n",
      "88: Boston Logan vs. Boston Logan Airport\n",
      "89: Panama Airport vs. Panama Tocumen\n",
      "95: Geneva Airport vs. Geneva Intl Airport\n",
      "96: Detroit Wayne County vs. Detroit Airport\n",
      "97: Malta Airport vs. Malta Intl Airport\n",
      "2014:\n",
      "1: Singapore Changi Airport vs. Singapore Changi\n",
      "4: Hong Kong Airport vs. Hong Kong Intl\n",
      "6: Tokyo Intl Airport vs. Tokyo Intl Haneda\n",
      "7: Beijing Intl Airport vs. Beijing Capital\n",
      "9: Vancouver Airport vs. Vancouver Intl Airport\n",
      "10: Heathrow Airport vs. London Heathrow\n",
      "12: Centrair vs. Central Japan Intl\n",
      "18: Taoyuan Intl Airport vs. Taiwan Taoyuan\n",
      "19: Helsinki Airport vs. Helsinki-Vantaa\n",
      "22: Abu Dhabi Airport vs. Abu Dhabi Intl Airport\n",
      "27: Cincinnati Intl Airport vs. Cincinnati\n",
      "28: Cologne/Bonn Airport vs. Cologne / Bonn\n",
      "30: Cape Town Intl Airport vs. Cape Town Airport\n",
      "32: Durban Airport vs. Durban Intl Airport\n",
      "34: Haikou Intl Airport vs. Haikou Airport\n",
      "35: London Gatwick Airport vs. London Gatwick\n",
      "39: San Francisco Airport vs. San Francisco Intl\n",
      "40: Istanbul Atatürk Airport vs. Istanbul Atatürk\n",
      "41: Madrid-Barajas Airport vs. Madrid-Barajas\n",
      "45: Atlanta Intl Airport vs. Atlanta\n",
      "46: Vienna Airport vs. Vienna Intl Airport\n",
      "48: Bangkok Suvarnabhumi vs. Bangkok Airport\n",
      "56: Athens Intl Airport vs. Athens Airport\n",
      "57: Guayaquil Intl Airport vs. Guayaquil Airport\n",
      "60: Jakarta  Airport vs. Jakarta Intl Airport\n",
      "61: New York JFK Airport vs. New York JFK\n",
      "67: Minneapolis-Saint Paul vs. Minneapolis-St Paul\n",
      "68: Hyderabad  Airport vs. Hyderabad Airport\n",
      "71: Budapest Airport vs. Budapest Intl\n",
      "74: Christchurch Intl Airport vs. Christchurch Airport\n",
      "75: Doha Intl Airport vs. Hamad Intl Airport\n",
      "77: Nice Airport vs. Nice Côte d'Azur\n",
      "80: Malta Intl Airport vs. Malta Airport\n",
      "85: Montréal-Pierre Elliott vs. Montréal Trudeau\n",
      "86: Boston Logan Airport vs. Boston Logan\n",
      "87: Detroit Metropolitan vs. Detroit Wayne County\n",
      "2013:\n",
      "1: Singapore Changi vs. Singapore Changi Airport\n",
      "2: Incheon Intl vs. Incheon Intl Airport\n",
      "4: Hong Kong Intl Airport vs. Hong Kong Airport\n",
      "8: Vancouver Intl Airport vs. Vancouver Airport\n",
      "9: Tokyo Haneda vs. Tokyo Intl Airport\n",
      "10: London Heathrow vs. Heathrow Airport\n",
      "12: Auckland Airport vs. Copenhagen Airport\n",
      "14: Kuala Lumpur vs. Kuala Lumpur Intl\n",
      "15: Helsinki-Vantaa vs. Helsinki Airport\n",
      "17: Copenhagen Airport vs. Narita Intl Airport\n",
      "ERROR: Copenhagen Airport 12 vs. 17\n",
      "22: Cape Town Airport vs. Cape Town Intl Airport\n",
      "24: Taiwan Taoyuan vs. Taoyuan Intl Airport\n",
      "28: Johannesburg vs. Johannesburg Airport\n",
      "30: Cincinnati vs. Cincinnati Intl Airport\n",
      "34: London City vs. London City Airport\n",
      "37: Cologne / Bonn vs. Cologne/Bonn Airport\n",
      "40: San Francisco vs. San Francisco Airport\n",
      "42: Guangzhou  Airport vs. Istanbul Atatürk Airport\n",
      "45: Guayaquil Airport vs. Guayaquil Intl Airport\n",
      "47: Madrid-Barajas vs. Madrid-Barajas Airport\n",
      "51: Athens Airport vs. Athens Intl Airport\n",
      "55: Bahrain Airport vs. Bahrain Intl Airport\n",
      "58: Halifax Intl Airport vs. Halifax Stanfield\n",
      "63: New York JFK vs. New York JFK Airport\n",
      "64: Christchurch Airport vs. Christchurch Intl Airport\n",
      "65: Hyderabad Airport vs. Hyderabad  Airport\n",
      "67: Lisbon Portela Airport vs. Lisbon Airport\n",
      "71: Minneapolis-St Paul vs. Minneapolis-Saint Paul\n",
      "72: Malta Airport vs. Malta Intl Airport\n",
      "74: Panama Tocumen vs. Panama Airport\n",
      "76: Nice Côte d'Azur vs. Nice Airport\n",
      "79: Detroit Airport vs. Detroit Metropolitan\n",
      "83: Montréal Airport vs. Montréal-Pierre Elliott\n",
      "88: Boston Logan vs. Boston Logan Airport\n",
      "2012:\n",
      "1: Incheon International vs. Incheon Intl\n",
      "5: Beijing Capital vs. Beijing Intl Airport\n",
      "9: Vancouver Airport vs. Vancouver Intl Airport\n",
      "17: Narita vs. Tokyo Naritar\n",
      "18: Abu Dhabi Airport vs. Abu Dhabi Intl Airport\n",
      "19: Kansai Airport vs. Kansai Intl Airport\n",
      "22: Helsinki Airport vs. Helsinki-Vantaa\n",
      "23: Seoul Gimpo Airport vs. Gimpo Intl Airport\n",
      "24: Cincinnati Airport vs. Cincinnati\n",
      "30: Lima Intl Airport vs. Lima Airport\n",
      "31: Johannesburg Airport vs. Johannesburg\n",
      "32: Shanghai PuDong vs. Shanghai Pudong\n",
      "38: Madrid Barajas vs. Madrid-Barajas\n",
      "44: Denver Airport vs. Denver Intl Airport\n",
      "52: Guangzhou Airport vs. Guangzhou  Airport\n",
      "53: Cologne/Bonn vs. Cologne / Bonn\n",
      "61: Lisbon Airport vs. Lisbon Portela Airport\n",
      "62: Delhi Airport vs. Delhi Intl Airport\n",
      "65: Minneapolis St.Paul vs. Minneapolis-St Paul\n",
      "67: Bangalore Airport vs. Bengaluru Airport\n",
      "68: Halifax Stanfield vs. Halifax Intl Airport\n",
      "74: New York JFK Airport vs. New York JFK\n",
      "76: Detroit Metro Airport vs. Detroit Airport\n",
      "79: Montreal-Trudeau vs. Montréal Airport\n",
      "82: Raleigh Durham vs. Raleigh-Durham\n",
      "88: Charlotte Douglas vs. Charlotte/Douglas\n",
      "91: Sanya Airport vs. Sanya Intl Airport\n",
      "99: Salt Lake City vs. Salt Lake City Airport\n"
     ]
    }
   ],
   "source": [
    "# Need to add CSV Reader afterwards\n",
    "# Double count of prev_rating \"49\" in 2014 leads to problem with DFW and Moscow-Sheremetyevo\n",
    "\n",
    "print(\"2016:\")\n",
    "read_page_16(ratings_16_ator, ratings_16_rtoa, \"http://www.worldairportawards.com/Awards/world_airport_rating.html\", ratings_15_ator, ratings_15_rtoa)\n",
    "print(\"2015:\")\n",
    "read_page_2(ratings_15_ator, ratings_15_rtoa, \"http://www.worldairportawards.com/Awards/world_airport_rating_2015.html\", ratings_14_ator, ratings_14_rtoa)\n",
    "print(\"2014:\")\n",
    "read_page_2(ratings_14_ator, ratings_14_rtoa, \"http://www.worldairportawards.com/Awards/world_airport_rating_2014.html\", ratings_13_ator, ratings_13_rtoa)\n",
    "print(\"2013:\")\n",
    "read_page_2(ratings_13_ator, ratings_13_rtoa, \"http://www.worldairportawards.com/Awards/world_airport_rating_2013.html\", ratings_12_ator, ratings_12_rtoa)\n",
    "print(\"2012:\")\n",
    "read_page_2(ratings_12_ator, ratings_12_rtoa, \"http://www.worldairportawards.com/Awards/world_airport_rating_2012.html\", ratings_11_ator, ratings_11_rtoa)\n"
   ]
  },
  {
   "cell_type": "code",
   "execution_count": 112,
   "metadata": {
    "collapsed": false
   },
   "outputs": [
    {
     "name": "stdout",
     "output_type": "stream",
     "text": [
      "2016:\n",
      "2015:\n",
      "90\n",
      "2014:\n",
      "2013:\n",
      "2012:\n",
      "2011:\n",
      "30\n",
      "93\n",
      "94\n",
      "96\n"
     ]
    }
   ],
   "source": [
    "def list_integrity_check(dict_rtoa, dict_ator):\n",
    "    for i in range(100):\n",
    "        if (i+1 not in dict_rtoa):\n",
    "            print(i+1)\n",
    "print(\"2016:\")\n",
    "list_integrity_check(ratings_16_rtoa, ratings_16_ator)\n",
    "print(\"2015:\")\n",
    "list_integrity_check(ratings_15_rtoa, ratings_15_ator)\n",
    "print(\"2014:\")\n",
    "list_integrity_check(ratings_14_rtoa, ratings_14_ator)\n",
    "print(\"2013:\")\n",
    "list_integrity_check(ratings_13_rtoa, ratings_13_ator)\n",
    "print(\"2012:\")\n",
    "list_integrity_check(ratings_12_rtoa, ratings_12_ator)\n",
    "print(\"2011:\")\n",
    "list_integrity_check(ratings_11_rtoa, ratings_11_ator)"
   ]
  },
  {
   "cell_type": "code",
   "execution_count": 113,
   "metadata": {
    "collapsed": false
   },
   "outputs": [
    {
     "name": "stdout",
     "output_type": "stream",
     "text": [
      "2016:\n",
      "TOTAL: 100\n",
      "2015:\n",
      "101\n",
      "103\n",
      "105\n",
      "141\n",
      "218\n",
      "TOTAL: 105\n",
      "2014:\n",
      "102\n",
      "109\n",
      "111\n",
      "260\n",
      "TOTAL: 104\n",
      "2013:\n",
      "101\n",
      "102\n",
      "104\n",
      "113\n",
      "133\n",
      "176\n",
      "182\n",
      "TOTAL: 107\n",
      "2012:\n",
      "101\n",
      "104\n",
      "105\n",
      "106\n",
      "TOTAL: 104\n",
      "2011:\n",
      "101\n",
      "102\n",
      "105\n",
      "TOTAL: 99\n"
     ]
    }
   ],
   "source": [
    "# Not everything captured due to HTML Page errors (e.g. 2015 Shanghai Pudong #90 2x <td class=\"middle\">)\n",
    "# Let's manually add it:\n",
    "ratings_15_rtoa[90] = \"Shanghai Pudong\"\n",
    "ratings_15_ator[\"Shanghai Pudong\"] = 90\n",
    "\n",
    "def list_integrity_check(dict_rtoa, dict_ator):\n",
    "    sum_rats = 0\n",
    "    for rating in dict_rtoa:\n",
    "        if (rating != dict_ator[dict_rtoa[rating]]):\n",
    "            print(rating)\n",
    "        if (rating > 100):\n",
    "            print(rating)\n",
    "        sum_rats += 1\n",
    "    print(\"TOTAL: \" + str(sum_rats))\n",
    "print(\"2016:\")\n",
    "list_integrity_check(ratings_16_rtoa, ratings_16_ator)\n",
    "print(\"2015:\")\n",
    "list_integrity_check(ratings_15_rtoa, ratings_15_ator)\n",
    "print(\"2014:\")\n",
    "list_integrity_check(ratings_14_rtoa, ratings_14_ator)\n",
    "print(\"2013:\")\n",
    "list_integrity_check(ratings_13_rtoa, ratings_13_ator)\n",
    "print(\"2012:\")\n",
    "list_integrity_check(ratings_12_rtoa, ratings_12_ator)\n",
    "print(\"2011:\")\n",
    "list_integrity_check(ratings_11_rtoa, ratings_11_ator)"
   ]
  },
  {
   "cell_type": "code",
   "execution_count": 114,
   "metadata": {
    "collapsed": false
   },
   "outputs": [
    {
     "name": "stdout",
     "output_type": "stream",
     "text": [
      "2016->2015:\n",
      "Tokyo Intl  Haneda -> Tokyo Intl Haneda\n",
      "Cincinnati/Kentucky -> Cincinnati\n",
      "Vancouver Airport -> Vancouver Intl Airport\n",
      "Madrid-Barajas Airport -> Madrid-Barajas\n",
      "Johannesburg Intl -> Johannesburg Airport\n",
      "San Francisco Airport -> San Francisco Intl\n",
      "Beijing Capital Airport -> Beijing Capital\n",
      "Geneva Intl Airport -> Geneva Airport\n",
      "Nice Airport -> Nice Côte d'Azur\n",
      "Keflavik Intl Airport -> Keflavik Airport\n",
      "Abu Dhabi Airport -> Abu Dhabi Intl Airport\n",
      "Doha Hamad Airport -> Hamad Intl Airport\n",
      "Montréal Intl Airport -> Montréal Trudeau\n",
      "New York JFK Airport -> New York JFK\n",
      "Xi'an Airport -> Xi'an Intl Airport\n",
      "Hong Kong Intl Airport -> Hong Kong Intl\n",
      "Hartsfield-Jackson -> Atlanta\n",
      "JakartaIntl Airport -> Jakarta Intl Airport\n",
      "Cologne/Bonn Airport -> Cologne / Bonn\n",
      "Durban Airport -> Durban Intl Airport\n",
      "Denver Airport -> Denver Intl Airport\n",
      "Athens Intl Airport -> Athens Airport\n",
      "Porto  Airport -> Porto Airport\n",
      "Boston Logan Airport -> Boston Logan\n",
      "Kuala Lumpur Airport -> Kuala Lumpur Intl\n",
      "Budapest Intl Airport -> Budapest Intl\n",
      "Malta Intl Airport -> Malta Airport\n",
      "Stansted Airport -> London Stansted\n",
      "Panama Tocumen -> Panama Airport\n",
      "Gatwick Airport -> London Gatwick\n",
      "Bahrain Airport -> Bahrain Intl Airport\n",
      "Centrair Airport -> Central Japan Intl\n",
      "Taiwan Taoyuan Airport -> Taiwan Taoyuan\n",
      "Auckland Airport -> Auckland Intl Airport\n",
      "Dubai Airport -> Dubai Intl Airport\n",
      "Bangkok Suvarnabhumi -> Bangkok Airport\n",
      "Vienna Airport -> Vienna Intl Airport\n",
      "Haikou Meilan Airport -> Haikou Airport\n",
      "Helsinki Airport -> Helsinki-Vantaa\n",
      "Detroit Airport -> Detroit Wayne County\n",
      "Sanya Phoenix Airport -> Sanya Intl Airport\n",
      "2015->2014:\n",
      "Cincinnati -> Cincinnati Intl Airport\n",
      "Jakarta Intl Airport -> Jakarta  Airport\n",
      "Christchurch Airport -> Christchurch Intl Airport\n",
      "Atlanta -> Atlanta Intl Airport\n",
      "Detroit Wayne County -> Detroit Metropolitan\n",
      "Taiwan Taoyuan -> Taoyuan Intl Airport\n",
      "Boston Logan -> Boston Logan Airport\n",
      "Cologne / Bonn -> Cologne/Bonn Airport\n",
      "Hong Kong Intl -> Hong Kong Airport\n",
      "Malta Airport -> Malta Intl Airport\n",
      "Vancouver Intl Airport -> Vancouver Airport\n",
      "London Heathrow -> Heathrow Airport\n",
      "Nice Côte d'Azur -> Nice Airport\n",
      "Madrid-Barajas -> Madrid-Barajas Airport\n",
      "Guayaquil Airport -> Guayaquil Intl Airport\n",
      "Helsinki-Vantaa -> Helsinki Airport\n",
      "Bangkok Airport -> Bangkok Suvarnabhumi\n",
      "Durban Intl Airport -> Durban Airport\n",
      "Hyderabad Airport -> Hyderabad  Airport\n",
      "Minneapolis-St Paul -> Minneapolis-Saint Paul\n",
      "Cape Town Airport -> Cape Town Intl Airport\n",
      "Singapore Changi -> Singapore Changi Airport\n",
      "Abu Dhabi Intl Airport -> Abu Dhabi Airport\n",
      "San Francisco Intl -> San Francisco Airport\n",
      "Central Japan Intl -> Centrair\n",
      "Haikou Airport -> Haikou Intl Airport\n",
      "London Gatwick -> London Gatwick Airport\n",
      "Istanbul Atatürk -> Istanbul Atatürk Airport\n",
      "Athens Airport -> Athens Intl Airport\n",
      "Montréal Trudeau -> Montréal-Pierre Elliott\n",
      "Beijing Capital -> Beijing Intl Airport\n",
      "New York JFK -> New York JFK Airport\n",
      "Vienna Intl Airport -> Vienna Airport\n",
      "Hamad Intl Airport -> Doha Intl Airport\n",
      "Tokyo Intl Haneda -> Tokyo Intl Airport\n",
      "Budapest Intl -> Budapest Airport\n",
      "2014->2013:\n",
      "Narita Intl Airport -> Copenhagen Airport\n",
      "Minneapolis-Saint Paul -> Minneapolis-St Paul\n",
      "Christchurch Intl Airport -> Christchurch Airport\n",
      "Vancouver Airport -> Vancouver Intl Airport\n",
      "Tokyo Intl Airport -> Tokyo Haneda\n",
      "Istanbul Atatürk Airport -> Guangzhou  Airport\n",
      "Madrid-Barajas Airport -> Madrid-Barajas\n",
      "San Francisco Airport -> San Francisco\n",
      "Guangzhou Airport -> Gold Coast Airport\n",
      "Guayaquil Intl Airport -> Guayaquil Airport\n",
      "Taoyuan Intl Airport -> Taiwan Taoyuan\n",
      "Incheon Intl Airport -> Incheon Intl\n",
      "Nice Airport -> Nice Côte d'Azur\n",
      "Abu Dhabi Airport -> Cape Town Airport\n",
      "Cape Town Intl Airport -> Cape Town Airport\n",
      "Detroit Metropolitan -> Detroit Airport\n",
      "Cincinnati Intl Airport -> Cincinnati\n",
      "New York JFK Airport -> New York JFK\n",
      "Heathrow Airport -> London Heathrow\n",
      "Halifax Stanfield -> Halifax Intl Airport\n",
      "London City Airport -> London City\n",
      "Cologne/Bonn Airport -> Cologne / Bonn\n",
      "Auckland Intl Airport -> Auckland Airport\n",
      "Johannesburg Airport -> Johannesburg\n",
      "Athens Intl Airport -> Athens Airport\n",
      "Kuala Lumpur Intl -> Kuala Lumpur\n",
      "Boston Logan Airport -> Boston Logan\n",
      "Hyderabad  Airport -> Hyderabad Airport\n",
      "Singapore Changi Airport -> Singapore Changi\n",
      "Montréal-Pierre Elliott -> Montréal Airport\n",
      "Malta Intl Airport -> Malta Airport\n",
      "Lisbon Airport -> Lisbon Portela Airport\n",
      "Panama Airport -> Panama Tocumen\n",
      "London Gatwick Airport -> Guayaquil Airport\n",
      "Helsinki Airport -> Helsinki-Vantaa\n",
      "Hong Kong Airport -> Hong Kong Intl Airport\n",
      "Bahrain Intl Airport -> Bahrain Airport\n",
      "2013->2012:\n",
      "Beijing Intl Airport -> Beijing Capital\n",
      "Incheon Intl -> Incheon International\n",
      "Tokyo Naritar -> Narita\n",
      "Cincinnati -> Cincinnati Airport\n",
      "Sanya Intl Airport -> Sanya Airport\n",
      "Halifax Intl Airport -> Halifax Stanfield\n",
      "Kansai Intl Airport -> Kansai Airport\n",
      "Denver Intl Airport -> Denver Airport\n",
      "Johannesburg -> Johannesburg Airport\n",
      "Vancouver Intl Airport -> Vancouver Airport\n",
      "Raleigh-Durham -> Raleigh Durham\n",
      "Salt Lake City Airport -> Salt Lake City\n",
      "Madrid-Barajas -> Madrid Barajas\n",
      "Helsinki-Vantaa -> Helsinki Airport\n",
      "Montréal Airport -> Montreal-Trudeau\n",
      "Lisbon Portela Airport -> Lisbon Airport\n",
      "Delhi Intl Airport -> Delhi Airport\n",
      "Shanghai Pudong -> Shanghai PuDong\n",
      "Lima Airport -> Lima Intl Airport\n",
      "Gimpo Intl Airport -> Seoul Gimpo Airport\n",
      "Charlotte/Douglas -> Charlotte Douglas\n",
      "Abu Dhabi Intl Airport -> Abu Dhabi Airport\n",
      "Minneapolis-St Paul -> Minneapolis St.Paul\n",
      "New York JFK -> New York JFK Airport\n",
      "Guangzhou  Airport -> Guangzhou Airport\n",
      "Bengaluru Airport -> Bangalore Airport\n",
      "Cologne / Bonn -> Cologne/Bonn\n",
      "Detroit Airport -> Detroit Metro Airport\n"
     ]
    }
   ],
   "source": [
    "chain_ratings_16 = {}\n",
    "chain_ratings_15 = {}\n",
    "chain_ratings_14 = {}\n",
    "chain_ratings_13 = {}\n",
    "\n",
    "def chain_ratings(chain_dict, dict_rtoa, dict_ator):\n",
    "    for apt_key in dict_ator:\n",
    "        if dict_rtoa[dict_ator[apt_key]] != apt_key:\n",
    "            chain_dict[apt_key] = dict_rtoa[dict_ator[apt_key]]\n",
    "            print(apt_key + \" -> \" + chain_dict[apt_key])\n",
    "print(\"2016->2015:\")\n",
    "chain_ratings(chain_ratings_16, ratings_15_rtoa, ratings_15_ator)\n",
    "print(\"2015->2014:\")\n",
    "chain_ratings(chain_ratings_15, ratings_14_rtoa, ratings_14_ator)\n",
    "print(\"2014->2013:\")\n",
    "chain_ratings(chain_ratings_14, ratings_13_rtoa, ratings_13_ator)\n",
    "print(\"2013->2012:\")\n",
    "chain_ratings(chain_ratings_13, ratings_12_rtoa, ratings_12_ator)\n",
    "    "
   ]
  },
  {
   "cell_type": "code",
   "execution_count": 115,
   "metadata": {
    "collapsed": false
   },
   "outputs": [
    {
     "name": "stdout",
     "output_type": "stream",
     "text": [
      "{'Panama Airport': 'Panama Tocumen', 'Abu Dhabi Airport': 'Abu Dhabi Intl Airport', 'Narita Intl Airport': 'Tokyo Naritar', 'Athens Intl Airport': 'Athens Airport', 'Cologne/Bonn Airport': 'Cologne / Bonn', 'Minneapolis-Saint Paul': 'Minneapolis-St Paul', 'Cincinnati Intl Airport': 'Cincinnati', 'Johannesburg Airport': 'Johannesburg', 'Christchurch Intl Airport': 'Christchurch Airport', 'Vancouver Airport': 'Vancouver Intl Airport', 'Tokyo Intl Airport': 'Tokyo Haneda', 'Heathrow Airport': 'London Heathrow', 'Cape Town Intl Airport': 'Cape Town Airport', 'Madrid-Barajas Airport': 'Madrid-Barajas', 'Auckland Intl Airport': 'Auckland Airport', 'Kuala Lumpur Intl': 'Kuala Lumpur', 'Lisbon Airport': 'Lisbon Portela Airport', 'San Francisco Airport': 'San Francisco', 'Guayaquil Intl Airport': 'Guayaquil Airport', 'New York JFK Airport': 'New York JFK', 'Istanbul Atatürk Airport': 'Istanbul Atatürk', 'Hyderabad  Airport': 'Hyderabad Airport', 'Singapore Changi Airport': 'Singapore Changi', 'Guangzhou Airport': 'Guangzhou  Airport', 'Malta Intl Airport': 'Malta Airport', 'Boston Logan Airport': 'Boston Logan', 'Halifax Stanfield': 'Halifax Intl Airport', 'Hong Kong Airport': 'Hong Kong Intl Airport', 'Taoyuan Intl Airport': 'Taiwan Taoyuan', 'Helsinki Airport': 'Helsinki-Vantaa', 'Detroit Metropolitan': 'Detroit Airport', 'Incheon Intl Airport': 'Incheon Intl', 'London City Airport': 'London City', 'London Gatwick Airport': 'London Gatwick', 'Montréal-Pierre Elliott': 'Montréal Airport', 'Nice Airport': \"Nice Côte d'Azur\", 'Bahrain Intl Airport': 'Bahrain Airport'}\n"
     ]
    }
   ],
   "source": [
    "# Manually fix the problem ones that can't be resolved by name\n",
    "chain_ratings_14['Narita Intl Airport'] = 'Tokyo Naritar'\n",
    "chain_ratings_14['Istanbul Atatürk Airport'] = 'Istanbul Atatürk'\n",
    "chain_ratings_14['Abu Dhabi Airport'] = 'Abu Dhabi Intl Airport'\n",
    "chain_ratings_14['London Gatwick Airport'] = 'London Gatwick'\n",
    "chain_ratings_14['Guangzhou Airport'] = 'Guangzhou  Airport'\n",
    "\n",
    "print(chain_ratings_14)"
   ]
  },
  {
   "cell_type": "code",
   "execution_count": 116,
   "metadata": {
    "collapsed": true
   },
   "outputs": [],
   "source": [
    "def rev_dict(dict_in):\n",
    "    dict_out = {}\n",
    "    for elem in dict_in:\n",
    "        dict_out[dict_in[elem]] = elem\n",
    "    return dict_out\n",
    "\n",
    "chain_ratings_16r = rev_dict(chain_ratings_16)\n",
    "chain_ratings_15r = rev_dict(chain_ratings_15)\n",
    "chain_ratings_14r = rev_dict(chain_ratings_14)\n",
    "chain_ratings_13r = rev_dict(chain_ratings_13)"
   ]
  },
  {
   "cell_type": "code",
   "execution_count": 117,
   "metadata": {
    "collapsed": true
   },
   "outputs": [],
   "source": [
    "# Causes the chain_lists to reflect the oldest name:\n",
    "# chain_lists = [chain_ratings_16r, chain_ratings_15r, chain_ratings_14r, chain_ratings_13r]\n",
    "\n",
    "# for i in range(len(chain_lists) - 1):\n",
    "#     for rating in chain_lists[i+1]:\n",
    "#         for j in range(i+1)[::-1]:\n",
    "#             if chain_lists[i+1][rating] in chain_lists[j]:\n",
    "#                 chain_lists[i+1][rating] = chain_lists[j][chain_lists[i+1][rating]]\n",
    "#                 break\n",
    "\n",
    "# Written out/thorough explanation:\n",
    "# for rating in chain_ratings_15r:\n",
    "#     if chain_ratings_15r[rating] in chain_ratings_16r:\n",
    "#         chain_ratings_15r[rating] = chain_ratings_16r[chain_ratings_15r[rating]]\n",
    "# for rating in chain_ratings_14r:\n",
    "#     if chain_ratings_14r[rating] in chain_ratings_15r:\n",
    "#         chain_ratings_14r[rating] = chain_ratings_15r[chain_ratings_14r[rating]]\n",
    "#     elif chain_ratings_14r[rating] in chain_ratings_16r:\n",
    "#         chain_ratings_14r[rating] = chain_ratings_16r[chain_ratings_14r[rating]]\n",
    "# and so on..."
   ]
  },
  {
   "cell_type": "code",
   "execution_count": 125,
   "metadata": {
    "collapsed": false
   },
   "outputs": [],
   "source": [
    "# print(chain_ratings_15r)\n",
    "# Fix All AtoRs. get rid of duplicates, and then chain together into final as before!\n",
    "# First handle the 16->15\n",
    "# This is not foolproof: something that occurs in 2016 and is skipped in 2015 but comes with a different name in 2014 will not be caught!\n",
    "chain_ratings_12r = {}\n",
    "rtoa_lists = [ratings_16_rtoa, ratings_15_rtoa, ratings_14_rtoa, ratings_13_rtoa, ratings_12_rtoa, ratings_11_rtoa]\n",
    "ator_lists = [ratings_16_ator, ratings_15_ator, ratings_14_ator, ratings_13_ator, ratings_12_ator, ratings_11_ator]\n",
    "chain_lists = [chain_ratings_16r, chain_ratings_15r, chain_ratings_14r, chain_ratings_13r, chain_ratings_12r]\n",
    "for i in range(len(rtoa_lists) - 1):\n",
    "    for rank in rtoa_lists[i+1]:\n",
    "        for j in range(i+1)[::-1]:\n",
    "            curr_apt = rtoa_lists[i+1][rank]\n",
    "            if curr_apt in chain_lists[j]:\n",
    "                rtoa_lists[i+1][rank] = chain_lists[j][curr_apt]\n",
    "        ator_lists[i+1][rtoa_lists[i+1][rank]] = rank"
   ]
  },
  {
   "cell_type": "code",
   "execution_count": 120,
   "metadata": {
    "collapsed": false
   },
   "outputs": [
    {
     "name": "stdout",
     "output_type": "stream",
     "text": [
      "['Abu Dhabi Airport', 'Adelaide Airport', 'Amsterdam Schiphol', 'Athens Intl Airport', 'Auckland Airport', 'Bahrain Airport', 'Bangkok Suvarnabhumi', 'Barcelona Airport', 'Beijing Capital Airport', 'Bengaluru Airport', 'Berlin Schönefeld', 'Berlin Tegel Airport', 'Billund Airport', 'Birmingham Airport', 'Bogota El Dorado', 'Boston Logan Airport', 'Brisbane Airport', 'Brussels Airport', 'Budapest Intl Airport', 'Cairo Airport', 'Cape Town Airport', 'Centrair Airport', 'Charlotte/Douglas', 'Chengdu Airport', \"Chicago O'Hare\", 'Christchurch Airport', 'Cincinnati/Kentucky', 'Cologne/Bonn Airport', 'Copenhagen Airport', 'Dallas/Fort Worth', 'Delhi Intl Airport', 'Denver Airport', 'Detroit Airport', 'Doha Hamad Airport', 'Dubai Airport', 'Dublin Airport', 'Durban Airport', 'Dusseldorf Airport', 'Frankfurt Airport', 'Fukuoka Airport', 'Gatwick Airport', 'Geneva Intl Airport', 'Gimpo Intl Airport', 'Gold Coast Airport', 'Guangzhou Airport', 'Guangzhou\\xa0 Airport', 'Guayaquil Airport', 'Haikou Meilan Airport', 'Halifax Stanfield', 'Hamburg Airport', 'Hanoi Noi Bai Airport', 'Hartsfield-Jackson', 'Helsinki Airport', 'Hong Kong Intl Airport', 'Houston George Bush', 'Hyderabad Airport', 'Incheon Intl Airport', 'Istanbul Atatürk', 'JakartaIntl Airport', 'Johannesburg Intl', 'Kansai Intl Airport', 'Kazan Intl Airport', 'Keflavik Intl Airport', 'Kuala Lumpur Airport', 'Lima Airport', 'Lisbon Airport', 'London City Airport', 'London Heathrow', 'Los Angeles Airport', 'Luxembourg Airport', 'Madrid-Barajas Airport', 'Malta Intl Airport', 'Manchester Airport', 'Mauritius Airport', 'Melbourne Airport', 'Minneapolis-St Paul', 'Montréal Intl Airport', 'Moscow Domodedovo', 'Moscow Sheremetyevo', 'Mumbai  Intl Airport', 'Munich Airport', 'Muscat Intl Airport', 'Narita Intl Airport', 'New York JFK Airport', 'Newark Intl Airport', 'Nice Airport', 'Oslo Airport', 'Palma de Mallorca', 'Panama Tocumen', 'Paris CDG Airport', 'Perth Airport', 'Philadelphia Airport', 'Pittsburgh Airport', 'Porto  Airport', 'Prague Airport', 'Quito Intl Airport', 'Raleigh-Durham', 'Salt Lake City Airport', 'San Francisco Airport', 'Sanya Phoenix Airport', 'Seattle-Tacoma', 'Shanghai Hongqiao', 'Shanghai Pudong', 'Shenzhen Airport', 'Singapore Changi', 'Stansted Airport', 'Stockholm Arlanda', 'Sydney Airport', 'Taiwan Taoyuan Airport', 'Tel Aviv Airport', 'Tokyo Intl  Haneda', 'Toronto Pearson', 'Vancouver Airport', 'Vienna Airport', 'Warsaw Airport', \"Xi'an Airport\", 'Zurich Airport']\n",
      "117\n"
     ]
    }
   ],
   "source": [
    "apt_set = set()\n",
    "for rtoa_list in rtoa_lists:\n",
    "    for ranking in rtoa_list:\n",
    "        apt_set.add(rtoa_list[ranking])\n",
    "print(sorted(apt_set))\n",
    "print(len(apt_set))"
   ]
  },
  {
   "cell_type": "code",
   "execution_count": 121,
   "metadata": {
    "collapsed": false
   },
   "outputs": [
    {
     "name": "stdout",
     "output_type": "stream",
     "text": [
      "['Abu Dhabi Airport', 'Adelaide Airport', 'Amsterdam Schiphol', 'Athens Intl Airport', 'Auckland Airport', 'Bahrain Airport', 'Bangkok Suvarnabhumi', 'Barcelona Airport', 'Beijing Capital Airport', 'Bengaluru Airport', 'Berlin Schönefeld', 'Berlin Tegel Airport', 'Billund Airport', 'Birmingham Airport', 'Bogota El Dorado', 'Boston Logan Airport', 'Brisbane Airport', 'Brussels Airport', 'Budapest Intl Airport', 'Cairo Airport', 'Cape Town Airport', 'Centrair Airport', 'Charlotte/Douglas', 'Chengdu Airport', \"Chicago O'Hare\", 'Christchurch Airport', 'Cincinnati/Kentucky', 'Cologne/Bonn Airport', 'Copenhagen Airport', 'Dallas/Fort Worth', 'Delhi Intl Airport', 'Denver Airport', 'Detroit Airport', 'Doha Hamad Airport', 'Dubai Airport', 'Dublin Airport', 'Durban Airport', 'Dusseldorf Airport', 'Frankfurt Airport', 'Fukuoka Airport', 'Gatwick Airport', 'Geneva Intl Airport', 'Gimpo Intl Airport', 'Gold Coast Airport', 'Guangzhou Airport', 'Guayaquil Airport', 'Haikou Meilan Airport', 'Halifax Stanfield', 'Hamburg Airport', 'Hanoi Noi Bai Airport', 'Hartsfield-Jackson', 'Helsinki Airport', 'Hong Kong Intl Airport', 'Houston George Bush', 'Hyderabad Airport', 'Incheon Intl Airport', 'Istanbul Atatürk', 'JakartaIntl Airport', 'Johannesburg Intl', 'Kansai Intl Airport', 'Kazan Intl Airport', 'Keflavik Intl Airport', 'Kuala Lumpur Airport', 'Lima Airport', 'Lisbon Airport', 'London City Airport', 'London Heathrow', 'Los Angeles Airport', 'Luxembourg Airport', 'Madrid-Barajas Airport', 'Malta Intl Airport', 'Manchester Airport', 'Mauritius Airport', 'Melbourne Airport', 'Minneapolis-St Paul', 'Montréal Intl Airport', 'Moscow Domodedovo', 'Moscow Sheremetyevo', 'Mumbai  Intl Airport', 'Munich Airport', 'Muscat Intl Airport', 'Narita Intl Airport', 'New York JFK Airport', 'Newark Intl Airport', 'Nice Airport', 'Oslo Airport', 'Palma de Mallorca', 'Panama Tocumen', 'Paris CDG Airport', 'Perth Airport', 'Philadelphia Airport', 'Pittsburgh Airport', 'Porto  Airport', 'Prague Airport', 'Quito Intl Airport', 'Raleigh-Durham', 'Salt Lake City Airport', 'San Francisco Airport', 'Sanya Phoenix Airport', 'Seattle-Tacoma', 'Shanghai Hongqiao', 'Shanghai Pudong', 'Shenzhen Airport', 'Singapore Changi', 'Stansted Airport', 'Stockholm Arlanda', 'Sydney Airport', 'Taiwan Taoyuan Airport', 'Tel Aviv Airport', 'Tokyo Intl  Haneda', 'Toronto Pearson', 'Vancouver Airport', 'Vienna Airport', 'Warsaw Airport', \"Xi'an Airport\", 'Zurich Airport']\n",
      "116\n"
     ]
    }
   ],
   "source": [
    "# Have a problem with 'Guangzhou Airport' being duplicated as 'Guangzhou\\xa0 Airport' in 2011-13\n",
    "for rtoa_list in rtoa_lists:\n",
    "    for rank in rtoa_list:\n",
    "        if rtoa_list[rank] == 'Guangzhou\\xa0 Airport':\n",
    "            rtoa_list[rank] = 'Guangzhou Airport'\n",
    "\n",
    "apt_set = set()\n",
    "for rtoa_list in rtoa_lists:\n",
    "    for ranking in rtoa_list:\n",
    "        apt_set.add(rtoa_list[ranking])\n",
    "print(sorted(apt_set))\n",
    "print(len(apt_set))"
   ]
  },
  {
   "cell_type": "code",
   "execution_count": 130,
   "metadata": {
    "collapsed": false
   },
   "outputs": [
    {
     "name": "stdout",
     "output_type": "stream",
     "text": [
      "{'Tokyo Intl  Haneda': [4, 5, 6, 9, 14, 17], 'Narita Intl Airport': [11, 14, 16, 16, 17, 19], 'Christchurch Airport': [51, 76, 74, 64, 70, 65], 'Haikou Meilan Airport': [52, 53, 34, 44, 64, 53], 'Cincinnati/Kentucky': [32, 30, 27, 30, 24, 24], 'Amsterdam Schiphol': [13, 9, 5, 3, 4, 6], 'Vancouver Airport': [14, 11, 9, 8, 9, 12], 'Raleigh-Durham': [0, 99, 93, 86, 82, 84], 'Philadelphia Airport': [0, 0, 100, 104, 97, 100], 'Madrid-Barajas Airport': [31, 27, 41, 47, 38, 22], 'Johannesburg Intl': [30, 24, 26, 28, 31, 25], 'Sydney Airport': [23, 21, 21, 31, 20, 40], 'San Francisco Airport': [37, 36, 39, 40, 39, 50], 'Auckland Airport': [21, 15, 11, 12, 13, 8], 'Prague Airport': [93, 85, 70, 61, 54, 44], 'Kansai Intl Airport': [9, 12, 14, 18, 19, 14], 'Mauritius Airport': [0, 100, 111, 0, 0, 0], 'Bengaluru Airport': [74, 64, 79, 73, 67, 59], 'Guangzhou Airport': [85, 66, 42, 42, 52, 41], 'Geneva Intl Airport': [96, 95, 109, 96, 105, 0], 'Toronto Pearson': [44, 43, 43, 46, 47, 49], 'Copenhagen Airport': [18, 16, 17, 17, 12, 10], 'Gold Coast Airport': [55, 42, 50, 52, 46, 34], 'Incheon Intl Airport': [2, 2, 2, 2, 1, 3], 'Billund Airport': [79, 68, 62, 57, 50, 62], 'Nice Airport': [84, 79, 77, 76, 73, 68], 'Frankfurt Airport': [12, 13, 13, 11, 15, 20], 'Keflavik Intl Airport': [72, 67, 73, 81, 84, 85], 'Barcelona Airport': [27, 37, 38, 39, 21, 15], 'Abu Dhabi Airport': [38, 29, 22, 20, 18, 26], 'Houston George Bush': [71, 101, 90, 80, 83, 81], 'Shenzhen Airport': [77, 72, 83, 133, 0, 0], 'Brussels Airport': [83, 78, 72, 66, 69, 63], 'Paris CDG Airport': [33, 48, 95, 82, 78, 89], 'Cairo Airport': [0, 0, 0, 0, 100, 82], 'Brisbane Airport': [17, 20, 23, 21, 34, 38], 'Doha Hamad Airport': [10, 22, 75, 68, 63, 56], 'Montréal Intl Airport': [88, 87, 85, 83, 79, 71], 'Panama Tocumen': [86, 89, 84, 74, 72, 69], 'Birmingham Airport': [87, 82, 81, 91, 95, 98], 'London Heathrow': [8, 8, 10, 10, 11, 16], 'Shanghai Hongqiao': [34, 31, 15, 19, 16, 21], 'Newark Intl Airport': [0, 0, 0, 93, 96, 101], 'New York JFK Airport': [59, 60, 61, 63, 74, 70], 'Hamburg Airport': [40, 45, 44, 43, 28, 29], \"Xi'an Airport\": [48, 74, 89, 176, 0, 0], 'Hong Kong Intl Airport': [5, 4, 4, 4, 3, 1], 'Salt Lake City Airport': [0, 0, 0, 94, 99, 102], 'Hartsfield-Jackson': [43, 44, 45, 48, 59, 57], 'JakartaIntl Airport': [63, 57, 60, 113, 0, 0], 'Moscow Domodedovo': [53, 51, 55, 49, 40, 36], 'Dusseldorf Airport': [39, 34, 36, 27, 36, 31], 'Zurich Airport': [7, 6, 8, 7, 7, 7], 'Guayaquil Airport': [65, 59, 57, 45, 56, 58], 'Perth Airport': [73, 75, 76, 78, 80, 86], 'Berlin Tegel Airport': [0, 0, 0, 90, 81, 77], 'London City Airport': [41, 32, 31, 34, 37, 45], 'Kazan Intl Airport': [100, 103, 0, 0, 0, 0], 'Oslo Airport': [56, 49, 51, 56, 48, 42], 'Mumbai  Intl Airport': [64, 141, 0, 0, 0, 0], 'Cologne/Bonn Airport': [19, 23, 28, 37, 53, 61], 'Dublin Airport': [80, 81, 92, 95, 104, 0], 'Hanoi Noi Bai Airport': [82, 218, 0, 0, 0, 0], 'Durban Airport': [35, 28, 32, 26, 35, 33], 'Berlin Schönefeld': [0, 0, 0, 99, 106, 0], 'Denver Airport': [28, 33, 29, 36, 44, 35], 'Athens Intl Airport': [60, 55, 56, 51, 33, 43], 'Quito Intl Airport': [62, 105, 0, 0, 0, 0], 'Porto  Airport': [70, 65, 63, 53, 55, 55], 'Delhi Intl Airport': [66, 58, 59, 69, 62, 95], 'Shanghai Pudong': [0, 90, 64, 59, 32, 39], 'Lima Airport': [49, 35, 37, 25, 30, 32], \"Chicago O'Hare\": [0, 92, 96, 84, 86, 80], 'Cape Town Airport': [22, 26, 30, 22, 27, 28], 'Boston Logan Airport': [97, 88, 86, 88, 94, 99], 'Kuala Lumpur Airport': [24, 19, 20, 14, 8, 9], 'Palma de Mallorca': [0, 0, 0, 0, 93, 91], 'Tel Aviv Airport': [0, 0, 0, 100, 101, 0], 'Centrair Airport': [6, 7, 12, 13, 10, 11], 'Melbourne Airport': [25, 25, 24, 29, 43, 48], 'Budapest Intl Airport': [76, 69, 71, 101, 85, 78], 'Manchester Airport': [90, 80, 78, 70, 66, 67], 'Hyderabad Airport': [68, 70, 68, 65, 77, 92], 'Bogota El Dorado': [46, 94, 260, 0, 0, 0], 'Malta Intl Airport': [92, 97, 80, 72, 60, 73], 'Singapore Changi': [1, 1, 1, 1, 2, 2], 'Dallas/Fort Worth': [58, 62, 54, 54, 49, 37], 'Beijing Capital Airport': [16, 10, 7, 5, 5, 5], 'Stansted Airport': [95, 73, 49, 41, 42, 47], 'Warsaw Airport': [0, 0, 98, 102, 0, 0], 'Moscow Sheremetyevo': [78, 84, 88, 89, 98, 105], 'Gatwick Airport': [45, 40, 35, 35, 45, 66], 'Los Angeles Airport': [91, 98, 102, 0, 0, 0], 'Seattle-Tacoma': [54, 54, 53, 62, 71, 75], 'Adelaide Airport': [69, 63, 66, 77, 75, 74], 'Bahrain Airport': [47, 46, 47, 55, 58, 52], 'Chengdu Airport': [50, 50, 94, 182, 0, 0], 'Gimpo Intl Airport': [42, 41, 33, 23, 23, 27], 'Luxembourg Airport': [99, 91, 91, 85, 87, 79], 'Taiwan Taoyuan Airport': [20, 17, 18, 24, 29, 0], 'Istanbul Atatürk': [0, 71, 40, 32, 57, 54], 'Munich Airport': [3, 3, 3, 6, 6, 4], 'Stockholm Arlanda': [67, 61, 65, 60, 51, 46], 'Minneapolis-St Paul': [75, 86, 67, 71, 65, 64], 'Lisbon Airport': [57, 52, 58, 67, 61, 60], 'Dubai Airport': [26, 39, 25, 33, 26, 23], 'Pittsburgh Airport': [0, 0, 0, 97, 90, 83], 'Bangkok Suvarnabhumi': [36, 47, 48, 38, 25, 13], 'Charlotte/Douglas': [0, 0, 97, 87, 88, 87], 'Fukuoka Airport': [98, 93, 99, 92, 92, 90], 'Vienna Airport': [29, 38, 46, 50, 41, 51], 'Muscat Intl Airport': [94, 77, 69, 75, 89, 97], 'Helsinki Airport': [15, 18, 19, 15, 22, 18], 'Halifax Stanfield': [61, 56, 52, 58, 68, 88], 'Detroit Airport': [89, 96, 87, 79, 76, 72], 'Sanya Phoenix Airport': [81, 83, 82, 98, 91, 76]}\n"
     ]
    }
   ],
   "source": [
    "def add_rating(apt_key, r_list, r_tbl):\n",
    "    if apt_key in r_tbl:\n",
    "        r_list.append(r_tbl[apt_key])\n",
    "    else:\n",
    "        r_list.append(0)\n",
    "\n",
    "cumul_ratings = {}\n",
    "for apt in apt_set:\n",
    "    ratings = []\n",
    "    for ator_list in ator_lists:\n",
    "        add_rating(apt, ratings, ator_list)\n",
    "    cumul_ratings[apt] = ratings\n",
    "print(cumul_ratings)"
   ]
  },
  {
   "cell_type": "code",
   "execution_count": 134,
   "metadata": {
    "collapsed": true
   },
   "outputs": [],
   "source": [
    "with open('skytrax_top100.csv', 'w', newline='') as csvfile:\n",
    "    skt_writer = csv.DictWriter(csvfile, fieldnames=['apt_name', '16', '15', '14', '13', '12', '11'])\n",
    "    skt_writer.writeheader()\n",
    "    for apt in cumul_ratings:\n",
    "        ratings = cumul_ratings[apt]\n",
    "        skt_writer.writerow({'apt_name': apt, '16': ratings[0], '15': ratings[1], '14': ratings[2], '13': ratings[3], '12': ratings[4], '11': ratings[5]})"
   ]
  },
  {
   "cell_type": "code",
   "execution_count": null,
   "metadata": {
    "collapsed": true
   },
   "outputs": [],
   "source": []
  }
 ],
 "metadata": {
  "kernelspec": {
   "display_name": "Python 3",
   "language": "python",
   "name": "python3"
  },
  "language_info": {
   "codemirror_mode": {
    "name": "ipython",
    "version": 3
   },
   "file_extension": ".py",
   "mimetype": "text/x-python",
   "name": "python",
   "nbconvert_exporter": "python",
   "pygments_lexer": "ipython3",
   "version": "3.5.2"
  }
 },
 "nbformat": 4,
 "nbformat_minor": 1
}
